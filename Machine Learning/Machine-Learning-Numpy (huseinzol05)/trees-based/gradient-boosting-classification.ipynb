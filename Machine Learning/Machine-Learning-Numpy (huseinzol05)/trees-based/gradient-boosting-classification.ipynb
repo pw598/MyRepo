{
 "cells": [
  {
   "cell_type": "code",
   "execution_count": 1,
   "metadata": {},
   "outputs": [
    {
     "name": "stderr",
     "output_type": "stream",
     "text": [
      "/usr/local/lib/python3.5/dist-packages/sklearn/cross_validation.py:41: DeprecationWarning: This module was deprecated in version 0.18 in favor of the model_selection module into which all the refactored classes and functions are moved. Also note that the interface of the new CV iterators are different from that of this module. This module will be removed in 0.20.\n",
      "  \"This module will be removed in 0.20.\", DeprecationWarning)\n"
     ]
    }
   ],
   "source": [
    "import numpy as np\n",
    "import pandas as pd\n",
    "from sklearn.preprocessing import MinMaxScaler\n",
    "from sklearn.preprocessing import StandardScaler\n",
    "from sklearn.cross_validation import train_test_split\n",
    "from sklearn.preprocessing import LabelEncoder\n",
    "import matplotlib.pyplot as plt\n",
    "import seaborn as sns\n",
    "sns.set()"
   ]
  },
  {
   "cell_type": "code",
   "execution_count": 2,
   "metadata": {},
   "outputs": [
    {
     "data": {
      "text/html": [
       "<div>\n",
       "<style>\n",
       "    .dataframe thead tr:only-child th {\n",
       "        text-align: right;\n",
       "    }\n",
       "\n",
       "    .dataframe thead th {\n",
       "        text-align: left;\n",
       "    }\n",
       "\n",
       "    .dataframe tbody tr th {\n",
       "        vertical-align: top;\n",
       "    }\n",
       "</style>\n",
       "<table border=\"1\" class=\"dataframe\">\n",
       "  <thead>\n",
       "    <tr style=\"text-align: right;\">\n",
       "      <th></th>\n",
       "      <th>SepalLengthCm</th>\n",
       "      <th>SepalWidthCm</th>\n",
       "      <th>PetalLengthCm</th>\n",
       "      <th>PetalWidthCm</th>\n",
       "    </tr>\n",
       "  </thead>\n",
       "  <tbody>\n",
       "    <tr>\n",
       "      <th>0</th>\n",
       "      <td>5.1</td>\n",
       "      <td>3.5</td>\n",
       "      <td>1.4</td>\n",
       "      <td>0.2</td>\n",
       "    </tr>\n",
       "    <tr>\n",
       "      <th>1</th>\n",
       "      <td>4.9</td>\n",
       "      <td>3.0</td>\n",
       "      <td>1.4</td>\n",
       "      <td>0.2</td>\n",
       "    </tr>\n",
       "    <tr>\n",
       "      <th>2</th>\n",
       "      <td>4.7</td>\n",
       "      <td>3.2</td>\n",
       "      <td>1.3</td>\n",
       "      <td>0.2</td>\n",
       "    </tr>\n",
       "    <tr>\n",
       "      <th>3</th>\n",
       "      <td>4.6</td>\n",
       "      <td>3.1</td>\n",
       "      <td>1.5</td>\n",
       "      <td>0.2</td>\n",
       "    </tr>\n",
       "    <tr>\n",
       "      <th>4</th>\n",
       "      <td>5.0</td>\n",
       "      <td>3.6</td>\n",
       "      <td>1.4</td>\n",
       "      <td>0.2</td>\n",
       "    </tr>\n",
       "  </tbody>\n",
       "</table>\n",
       "</div>"
      ],
      "text/plain": [
       "   SepalLengthCm  SepalWidthCm  PetalLengthCm  PetalWidthCm\n",
       "0            5.1           3.5            1.4           0.2\n",
       "1            4.9           3.0            1.4           0.2\n",
       "2            4.7           3.2            1.3           0.2\n",
       "3            4.6           3.1            1.5           0.2\n",
       "4            5.0           3.6            1.4           0.2"
      ]
     },
     "execution_count": 2,
     "metadata": {},
     "output_type": "execute_result"
    }
   ],
   "source": [
    "df = pd.read_csv('Iris.csv')\n",
    "Y = df.iloc[:,-1].values\n",
    "df = df.iloc[:,1:-1]\n",
    "df.head()"
   ]
  },
  {
   "cell_type": "code",
   "execution_count": 3,
   "metadata": {},
   "outputs": [],
   "source": [
    "def PCA(X, dimensions = 2):\n",
    "    X = X - np.tile(np.mean(X, 0), (X.shape[0], 1))\n",
    "    _, eigenvectors = np.linalg.eig(np.dot(X.T, X))\n",
    "    Y = np.dot(X, eigenvectors[:, :dimensions])\n",
    "    return Y"
   ]
  },
  {
   "cell_type": "code",
   "execution_count": 4,
   "metadata": {},
   "outputs": [],
   "source": [
    "labels = np.unique(Y)\n",
    "X = PCA(df.values)\n",
    "Y = LabelEncoder().fit_transform(Y)\n",
    "onehot = np.zeros((X.shape[0], np.unique(Y).shape[0]))\n",
    "onehot[np.arange(X.shape[0]), Y] = 1\n",
    "train_X, test_X, train_Y, test_Y, train_onehot, test_onehot = train_test_split(X, Y, onehot, test_size = 0.2)"
   ]
  },
  {
   "cell_type": "code",
   "execution_count": 5,
   "metadata": {},
   "outputs": [],
   "source": [
    "def divide(X, i, threshold):\n",
    "    more_than = np.where(X[:,i]>=threshold)[0]\n",
    "    less_than = np.setxor1d(np.arange(X.shape[0]), more_than)\n",
    "    return np.array([X[more_than,:], X[less_than,:]])\n",
    "\n",
    "class Node:\n",
    "    def __init__(self, feature=None, threshold=None, val=None, true_b=None, false_b=None):\n",
    "        self.feature = feature\n",
    "        self.threshold = threshold\n",
    "        self.val = val\n",
    "        self.true_b = true_b\n",
    "        self.false_b = false_b\n",
    "        \n",
    "class RegressionTree:\n",
    "    def __init__(self, min_samples_split=2, min_impurity = 1e-8, max_depth=float('inf')):\n",
    "        self.root = None\n",
    "        self.min_samples_split = min_samples_split\n",
    "        self.min_impurity = min_impurity\n",
    "        self.max_depth = max_depth\n",
    "        self.impurity_calculation = None\n",
    "        self.leaf_value_calculation = None\n",
    "        \n",
    "    def _cal_variance_reduction(self, Y, y_more, y_less):\n",
    "        var = np.var(Y)\n",
    "        var_more = np.var(y_more)\n",
    "        var_less = np.var(y_less)\n",
    "        frac_more = len(y_more) / len(Y)\n",
    "        frac_less = len(y_less) / len(Y)\n",
    "        return np.sum(var - (frac_more * var_more + frac_less * var_less))\n",
    "    \n",
    "    def _mean_y(self, Y):\n",
    "        val = np.mean(Y,axis=0)\n",
    "        return val if len(val) > 1 else val[0]\n",
    "        \n",
    "    def build_tree(self, X, Y, current_depth=0):\n",
    "        largest_impurity = 0\n",
    "        best_criteria = None\n",
    "        best_sets = None\n",
    "        if len(Y.shape) == 1:\n",
    "            Y = np.expand_dims(Y, axis=1)\n",
    "        XY = np.concatenate((X, Y), axis=1)\n",
    "        n_samples, n_features = np.shape(X)\n",
    "        if n_samples >= self.min_samples_split and current_depth <= self.max_depth:\n",
    "            for i in range(n_features):\n",
    "                feature_values = np.expand_dims(X[:, i], axis=1)\n",
    "                unique_values = np.unique(feature_values)\n",
    "                for threshold in unique_values:\n",
    "                    XY_more, XY_less = divide(XY, i, threshold)\n",
    "                    if XY_more.shape[0] > 0 and XY_less.shape[0]:\n",
    "                        y_more = XY_more[:, n_features:]\n",
    "                        y_less = XY_less[:, n_features:]\n",
    "                        impurity = self._cal_variance_reduction(Y, y_more, y_less)\n",
    "                        if impurity > largest_impurity:\n",
    "                            largest_impurity = impurity\n",
    "                            best_criteria = {\"i\": i, \"threshold\": threshold}\n",
    "                            best_sets = {\n",
    "                                'left_X': XY_more[:, :n_features],\n",
    "                                'left_Y': XY_more[:, n_features:],\n",
    "                                'right_X': XY_less[:, :n_features],\n",
    "                                'right_Y': XY_less[:, n_features:],\n",
    "                            }\n",
    "        if largest_impurity > self.min_impurity:\n",
    "            T_branch = self.build_tree(best_sets[\"left_X\"], best_sets[\"left_Y\"], current_depth + 1)\n",
    "            F_branch = self.build_tree(best_sets[\"right_X\"], best_sets[\"right_Y\"], current_depth + 1)\n",
    "            return Node(feature=best_criteria['i'],threshold=best_criteria['threshold'],\n",
    "                       true_b=T_branch, false_b=F_branch)\n",
    "        selected_val = self._mean_y(Y)\n",
    "        return Node(val=selected_val)\n",
    "    \n",
    "    def fit(self, X, Y):\n",
    "        self.root = self.build_tree(X, Y)\n",
    "        \n",
    "    def _predict_val(self, X, tree=None):\n",
    "        if tree is None:\n",
    "            tree = self.root\n",
    "        if tree.val is not None:\n",
    "            return tree.val\n",
    "        feature_val = X[tree.feature]\n",
    "        branch = tree.false_b\n",
    "        if feature_val >= tree.threshold:\n",
    "            branch = tree.true_b\n",
    "        return self._predict_val(X, branch)\n",
    "    \n",
    "    def predict(self, X):\n",
    "        results = []\n",
    "        for i in range(X.shape[0]):\n",
    "            results.append(self._predict_val(X[i,:]))\n",
    "        return results  "
   ]
  },
  {
   "cell_type": "code",
   "execution_count": 6,
   "metadata": {},
   "outputs": [],
   "source": [
    "def cross_entropy(x, y, grad=False):\n",
    "    x = x + 1e-10\n",
    "    if grad:\n",
    "        return - (y / x) + (1 - y) / (1 - x)\n",
    "    else:\n",
    "        return - y * np.log(p) - (1 - y) * np.log(1 - x)"
   ]
  },
  {
   "cell_type": "code",
   "execution_count": 7,
   "metadata": {},
   "outputs": [],
   "source": [
    "class Boosting_Classifier:\n",
    "    def __init__(self, n_estimators=10, learning_rate=0.1, \n",
    "                 min_samples_split=2, min_impurity=1e-8, max_depth=float('inf')):\n",
    "        self.n_estimators = n_estimators\n",
    "        self.learning_rate = learning_rate\n",
    "        self.min_samples_split = min_samples_split\n",
    "        self.min_impurity = min_impurity\n",
    "        self.max_depth = max_depth\n",
    "        self.trees = []\n",
    "        for i in range(self.n_estimators):\n",
    "            tree = RegressionTree(\n",
    "                    min_samples_split=self.min_samples_split,\n",
    "                    min_impurity=min_impurity,\n",
    "                    max_depth=self.max_depth)\n",
    "            self.trees.append(tree)\n",
    "            \n",
    "    def fit(self, X, Y):\n",
    "        y_pred = np.full(np.shape(Y), np.mean(Y, axis=0))\n",
    "        for i in range(self.n_estimators):\n",
    "            gradient = cross_entropy(y_pred, Y, True)\n",
    "            self.trees[i].fit(X, gradient)\n",
    "            update = self.trees[i].predict(X)\n",
    "            y_pred -= np.multiply(self.learning_rate, update)\n",
    "    \n",
    "    def predict(self, X, prob=False):\n",
    "        y_pred = np.array([])\n",
    "        for tree in self.trees:\n",
    "            update = tree.predict(X)\n",
    "            update = np.multiply(self.learning_rate, update)\n",
    "            y_pred = -update if not y_pred.any() else y_pred - update\n",
    "        y_pred = np.exp(y_pred) / np.expand_dims(np.sum(np.exp(y_pred), axis=1), axis=1)\n",
    "        if prob:\n",
    "            return y_pred\n",
    "        else:\n",
    "            return np.argmax(y_pred, axis=1)"
   ]
  },
  {
   "cell_type": "code",
   "execution_count": 8,
   "metadata": {},
   "outputs": [],
   "source": [
    "boosting = Boosting_Classifier(n_estimators=100)\n",
    "boosting.fit(train_X, train_onehot)"
   ]
  },
  {
   "cell_type": "code",
   "execution_count": 9,
   "metadata": {},
   "outputs": [
    {
     "data": {
      "text/plain": [
       "1.0"
      ]
     },
     "execution_count": 9,
     "metadata": {},
     "output_type": "execute_result"
    }
   ],
   "source": [
    "acc = np.mean(boosting.predict(test_X) == test_Y)\n",
    "acc"
   ]
  },
  {
   "cell_type": "code",
   "execution_count": 11,
   "metadata": {},
   "outputs": [
    {
     "data": {
      "image/png": "[encoded data removed]",
      "text/plain": [
       "<matplotlib.figure.Figure at 0x7f5fb2534a20>"
      ]
     },
     "metadata": {},
     "output_type": "display_data"
    }
   ],
   "source": [
    "plt.figure(figsize=(15, 10))\n",
    "x_min, x_max = X[:, 0].min() - .5, X[:, 0].max() + .5\n",
    "y_min, y_max = X[:, 1].min() - .5, X[:, 1].max() + .5\n",
    "h = 0.01\n",
    "xx, yy = np.meshgrid(np.arange(x_min, x_max, h), np.arange(y_min, y_max, h))\n",
    "Z = boosting.predict(np.c_[xx.ravel(), yy.ravel()])\n",
    "Z = Z.reshape(xx.shape)\n",
    "plt.contourf(xx, yy, Z, cmap=plt.cm.Spectral, alpha = 0.5)\n",
    "plt.scatter(X[:, 0], X[:, 1], c=Y, cmap=plt.cm.Spectral)\n",
    "plt.title('decision boundary, accuracy validation: %f'%(acc))\n",
    "plt.show()"
   ]
  },
  {
   "cell_type": "code",
   "execution_count": null,
   "metadata": {},
   "outputs": [],
   "source": []
  }
 ],
 "metadata": {
  "kernelspec": {
   "display_name": "Python 3",
   "language": "python",
   "name": "python3"
  },
  "language_info": {
   "codemirror_mode": {
    "name": "ipython",
    "version": 3
   },
   "file_extension": ".py",
   "mimetype": "text/x-python",
   "name": "python",
   "nbconvert_exporter": "python",
   "pygments_lexer": "ipython3",
   "version": "3.5.2"
  }
 },
 "nbformat": 4,
 "nbformat_minor": 2
}
