{
 "cells": [
  {
   "cell_type": "code",
   "execution_count": 1,
   "metadata": {},
   "outputs": [
    {
     "name": "stderr",
     "output_type": "stream",
     "text": [
      "/usr/local/lib/python3.5/dist-packages/sklearn/cross_validation.py:41: DeprecationWarning: This module was deprecated in version 0.18 in favor of the model_selection module into which all the refactored classes and functions are moved. Also note that the interface of the new CV iterators are different from that of this module. This module will be removed in 0.20.\n",
      "  \"This module will be removed in 0.20.\", DeprecationWarning)\n"
     ]
    },
    {
     "data": {
      "text/html": [
       "<div>\n",
       "<style>\n",
       "    .dataframe thead tr:only-child th {\n",
       "        text-align: right;\n",
       "    }\n",
       "\n",
       "    .dataframe thead th {\n",
       "        text-align: left;\n",
       "    }\n",
       "\n",
       "    .dataframe tbody tr th {\n",
       "        vertical-align: top;\n",
       "    }\n",
       "</style>\n",
       "<table border=\"1\" class=\"dataframe\">\n",
       "  <thead>\n",
       "    <tr style=\"text-align: right;\">\n",
       "      <th></th>\n",
       "      <th>time</th>\n",
       "      <th>temp</th>\n",
       "    </tr>\n",
       "  </thead>\n",
       "  <tbody>\n",
       "    <tr>\n",
       "      <th>0</th>\n",
       "      <td>0.002732</td>\n",
       "      <td>0.1</td>\n",
       "    </tr>\n",
       "    <tr>\n",
       "      <th>1</th>\n",
       "      <td>0.005464</td>\n",
       "      <td>-4.5</td>\n",
       "    </tr>\n",
       "    <tr>\n",
       "      <th>2</th>\n",
       "      <td>0.008197</td>\n",
       "      <td>-6.3</td>\n",
       "    </tr>\n",
       "    <tr>\n",
       "      <th>3</th>\n",
       "      <td>0.010929</td>\n",
       "      <td>-9.6</td>\n",
       "    </tr>\n",
       "    <tr>\n",
       "      <th>4</th>\n",
       "      <td>0.013661</td>\n",
       "      <td>-9.9</td>\n",
       "    </tr>\n",
       "  </tbody>\n",
       "</table>\n",
       "</div>"
      ],
      "text/plain": [
       "       time  temp\n",
       "0  0.002732   0.1\n",
       "1  0.005464  -4.5\n",
       "2  0.008197  -6.3\n",
       "3  0.010929  -9.6\n",
       "4  0.013661  -9.9"
      ]
     },
     "execution_count": 1,
     "metadata": {},
     "output_type": "execute_result"
    }
   ],
   "source": [
    "import numpy as np\n",
    "import pandas as pd\n",
    "import matplotlib.pyplot as plt\n",
    "from sklearn.preprocessing import LabelEncoder\n",
    "from sklearn.cross_validation import train_test_split\n",
    "import seaborn as sns\n",
    "from itertools import combinations_with_replacement\n",
    "sns.set()\n",
    "df = pd.read_csv('TempLinkoping2016.csv')\n",
    "df.head()"
   ]
  },
  {
   "cell_type": "code",
   "execution_count": 2,
   "metadata": {},
   "outputs": [],
   "source": [
    "X = df.iloc[:, 0:1].values\n",
    "Y = df.iloc[:, 1].values\n",
    "n_features = X.shape[1]\n",
    "degree = 15\n",
    "combs = [combinations_with_replacement(range(n_features), i) for i in range(0, degree + 1)]\n",
    "flat_combs = [item for sublist in combs for item in sublist]\n",
    "X_new = np.empty((X.shape[0], len(flat_combs)))\n",
    "for i, index_combs in enumerate(flat_combs):\n",
    "    X_new[:, i] = np.prod(X[:, index_combs], axis=1)\n",
    "train_X, test_X, train_Y, test_Y = train_test_split(X_new, Y, test_size = 0.2)"
   ]
  },
  {
   "cell_type": "code",
   "execution_count": 3,
   "metadata": {},
   "outputs": [],
   "source": [
    "def divide(X, i, threshold):\n",
    "    more_than = np.where(X[:,i]>=threshold)[0]\n",
    "    less_than = np.setxor1d(np.arange(X.shape[0]), more_than)\n",
    "    return np.array([X[more_than,:], X[less_than,:]])"
   ]
  },
  {
   "cell_type": "code",
   "execution_count": 5,
   "metadata": {},
   "outputs": [],
   "source": [
    "class Node:\n",
    "    def __init__(self, feature=None, threshold=None, val=None, true_b=None, false_b=None):\n",
    "        self.feature = feature\n",
    "        self.threshold = threshold\n",
    "        self.val = val\n",
    "        self.true_b = true_b\n",
    "        self.false_b = false_b\n",
    "        \n",
    "class RegressionTree:\n",
    "    def __init__(self, min_samples_split=2, min_impurity = 1e-8, max_depth=float('inf')):\n",
    "        self.root = None\n",
    "        self.min_samples_split = min_samples_split\n",
    "        self.min_impurity = min_impurity\n",
    "        self.max_depth = max_depth\n",
    "        self.impurity_calculation = None\n",
    "        self.leaf_value_calculation = None\n",
    "        \n",
    "    def _cal_variance_reduction(self, Y, y_more, y_less):\n",
    "        var = np.var(Y)\n",
    "        var_more = np.var(y_more)\n",
    "        var_less = np.var(y_less)\n",
    "        frac_more = len(y_more) / len(Y)\n",
    "        frac_less = len(y_less) / len(Y)\n",
    "        return np.sum(var - (frac_more * var_more + frac_less * var_less))\n",
    "    \n",
    "    def _mean_y(self, Y):\n",
    "        return np.mean(Y[:,0])\n",
    "        \n",
    "    def build_tree(self, X, Y, current_depth=0):\n",
    "        largest_impurity = 0\n",
    "        best_criteria = None\n",
    "        best_sets = None\n",
    "        if len(Y.shape) == 1:\n",
    "            Y = np.expand_dims(Y, axis=1)\n",
    "        XY = np.concatenate((X, Y), axis=1)\n",
    "        n_samples, n_features = np.shape(X)\n",
    "        if n_samples >= self.min_samples_split and current_depth <= self.max_depth:\n",
    "            for i in range(n_features):\n",
    "                feature_values = np.expand_dims(X[:, i], axis=1)\n",
    "                unique_values = np.unique(feature_values)\n",
    "                for threshold in unique_values:\n",
    "                    XY_more, XY_less = divide(XY, i, threshold)\n",
    "                    if XY_more.shape[0] > 0 and XY_less.shape[0]:\n",
    "                        y_more = XY_more[:, n_features:]\n",
    "                        y_less = XY_less[:, n_features:]\n",
    "                        impurity = self._cal_variance_reduction(Y, y_more, y_less)\n",
    "                        if impurity > largest_impurity:\n",
    "                            largest_impurity = impurity\n",
    "                            best_criteria = {\"i\": i, \"threshold\": threshold}\n",
    "                            best_sets = {\n",
    "                                'left_X': XY_more[:, :n_features],\n",
    "                                'left_Y': XY_more[:, n_features:],\n",
    "                                'right_X': XY_less[:, :n_features],\n",
    "                                'right_Y': XY_less[:, n_features:],\n",
    "                            }\n",
    "        if largest_impurity > self.min_impurity:\n",
    "            T_branch = self.build_tree(best_sets[\"left_X\"], best_sets[\"left_Y\"], current_depth + 1)\n",
    "            F_branch = self.build_tree(best_sets[\"right_X\"], best_sets[\"right_Y\"], current_depth + 1)\n",
    "            return Node(feature=best_criteria['i'],threshold=best_criteria['threshold'],\n",
    "                       true_b=T_branch, false_b=F_branch)\n",
    "        selected_val = self._mean_y(Y)\n",
    "        return Node(val=selected_val)\n",
    "    \n",
    "    def fit(self, X, Y):\n",
    "        self.root = self.build_tree(X, Y)\n",
    "        \n",
    "    def _predict_val(self, X, tree=None):\n",
    "        if tree is None:\n",
    "            tree = self.root\n",
    "        if tree.val is not None:\n",
    "            return tree.val\n",
    "        feature_val = X[tree.feature]\n",
    "        branch = tree.false_b\n",
    "        if feature_val >= tree.threshold:\n",
    "            branch = tree.true_b\n",
    "        return self._predict_val(X, branch)\n",
    "    \n",
    "    def predict(self, X):\n",
    "        results = []\n",
    "        for i in range(X.shape[0]):\n",
    "            results.append(self._predict_val(X[i,:]))\n",
    "        return results  "
   ]
  },
  {
   "cell_type": "code",
   "execution_count": 6,
   "metadata": {},
   "outputs": [],
   "source": [
    "regression_tree = RegressionTree()\n",
    "regression_tree.fit(train_X, train_Y)"
   ]
  },
  {
   "cell_type": "code",
   "execution_count": 7,
   "metadata": {},
   "outputs": [
    {
     "data": {
      "text/plain": [
       "5.8825675675675679"
      ]
     },
     "execution_count": 7,
     "metadata": {},
     "output_type": "execute_result"
    }
   ],
   "source": [
    "np.mean(np.square(test_Y - regression_tree.predict(test_X)))"
   ]
  },
  {
   "cell_type": "code",
   "execution_count": 8,
   "metadata": {},
   "outputs": [
    {
     "data": {
      "image/png": "[encoded data removed]",
      "text/plain": [
       "<matplotlib.figure.Figure at 0x7fd9b50d80f0>"
      ]
     },
     "metadata": {},
     "output_type": "display_data"
    }
   ],
   "source": [
    "plt.scatter(X[:,0],Y)\n",
    "plt.plot(X,regression_tree.predict(X_new), c='red')\n",
    "plt.show()"
   ]
  },
  {
   "cell_type": "code",
   "execution_count": null,
   "metadata": {},
   "outputs": [],
   "source": []
  }
 ],
 "metadata": {
  "kernelspec": {
   "display_name": "Python 3",
   "language": "python",
   "name": "python3"
  },
  "language_info": {
   "codemirror_mode": {
    "name": "ipython",
    "version": 3
   },
   "file_extension": ".py",
   "mimetype": "text/x-python",
   "name": "python",
   "nbconvert_exporter": "python",
   "pygments_lexer": "ipython3",
   "version": "3.5.2"
  }
 },
 "nbformat": 4,
 "nbformat_minor": 2
}
