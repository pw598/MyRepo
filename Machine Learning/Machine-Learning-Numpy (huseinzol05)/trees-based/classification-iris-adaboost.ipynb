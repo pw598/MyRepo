{
 "cells": [
  {
   "cell_type": "code",
   "execution_count": 1,
   "metadata": {},
   "outputs": [
    {
     "name": "stderr",
     "output_type": "stream",
     "text": [
      "/usr/local/lib/python3.5/dist-packages/sklearn/cross_validation.py:41: DeprecationWarning: This module was deprecated in version 0.18 in favor of the model_selection module into which all the refactored classes and functions are moved. Also note that the interface of the new CV iterators are different from that of this module. This module will be removed in 0.20.\n",
      "  \"This module will be removed in 0.20.\", DeprecationWarning)\n"
     ]
    }
   ],
   "source": [
    "import numpy as np\n",
    "import pandas as pd\n",
    "import matplotlib.pyplot as plt\n",
    "from sklearn.preprocessing import LabelEncoder\n",
    "from sklearn.cross_validation import train_test_split\n",
    "from copy import deepcopy\n",
    "import seaborn as sns\n",
    "sns.set()"
   ]
  },
  {
   "cell_type": "code",
   "execution_count": 2,
   "metadata": {},
   "outputs": [
    {
     "data": {
      "text/html": [
       "<div>\n",
       "<style>\n",
       "    .dataframe thead tr:only-child th {\n",
       "        text-align: right;\n",
       "    }\n",
       "\n",
       "    .dataframe thead th {\n",
       "        text-align: left;\n",
       "    }\n",
       "\n",
       "    .dataframe tbody tr th {\n",
       "        vertical-align: top;\n",
       "    }\n",
       "</style>\n",
       "<table border=\"1\" class=\"dataframe\">\n",
       "  <thead>\n",
       "    <tr style=\"text-align: right;\">\n",
       "      <th></th>\n",
       "      <th>SepalLengthCm</th>\n",
       "      <th>SepalWidthCm</th>\n",
       "      <th>PetalLengthCm</th>\n",
       "      <th>PetalWidthCm</th>\n",
       "    </tr>\n",
       "  </thead>\n",
       "  <tbody>\n",
       "    <tr>\n",
       "      <th>0</th>\n",
       "      <td>5.1</td>\n",
       "      <td>3.5</td>\n",
       "      <td>1.4</td>\n",
       "      <td>0.2</td>\n",
       "    </tr>\n",
       "    <tr>\n",
       "      <th>1</th>\n",
       "      <td>4.9</td>\n",
       "      <td>3.0</td>\n",
       "      <td>1.4</td>\n",
       "      <td>0.2</td>\n",
       "    </tr>\n",
       "    <tr>\n",
       "      <th>2</th>\n",
       "      <td>4.7</td>\n",
       "      <td>3.2</td>\n",
       "      <td>1.3</td>\n",
       "      <td>0.2</td>\n",
       "    </tr>\n",
       "    <tr>\n",
       "      <th>3</th>\n",
       "      <td>4.6</td>\n",
       "      <td>3.1</td>\n",
       "      <td>1.5</td>\n",
       "      <td>0.2</td>\n",
       "    </tr>\n",
       "    <tr>\n",
       "      <th>4</th>\n",
       "      <td>5.0</td>\n",
       "      <td>3.6</td>\n",
       "      <td>1.4</td>\n",
       "      <td>0.2</td>\n",
       "    </tr>\n",
       "  </tbody>\n",
       "</table>\n",
       "</div>"
      ],
      "text/plain": [
       "   SepalLengthCm  SepalWidthCm  PetalLengthCm  PetalWidthCm\n",
       "0            5.1           3.5            1.4           0.2\n",
       "1            4.9           3.0            1.4           0.2\n",
       "2            4.7           3.2            1.3           0.2\n",
       "3            4.6           3.1            1.5           0.2\n",
       "4            5.0           3.6            1.4           0.2"
      ]
     },
     "execution_count": 2,
     "metadata": {},
     "output_type": "execute_result"
    }
   ],
   "source": [
    "df = pd.read_csv('Iris.csv')\n",
    "Y = df.iloc[:,-1].values\n",
    "df = df.iloc[:,1:-1]\n",
    "df.head()"
   ]
  },
  {
   "cell_type": "code",
   "execution_count": 3,
   "metadata": {},
   "outputs": [],
   "source": [
    "def PCA(X, dimensions = 2):\n",
    "    X = X - np.tile(np.mean(X, 0), (X.shape[0], 1))\n",
    "    _, eigenvectors = np.linalg.eig(np.dot(X.T, X))\n",
    "    Y = np.dot(X, eigenvectors[:, :dimensions])\n",
    "    return Y"
   ]
  },
  {
   "cell_type": "code",
   "execution_count": 4,
   "metadata": {},
   "outputs": [],
   "source": [
    "labels = np.unique(Y)\n",
    "Y = LabelEncoder().fit_transform(Y)\n",
    "X = PCA(df.values)\n",
    "train_X, test_X, train_Y, test_Y = train_test_split(X, Y, test_size = 0.2)"
   ]
  },
  {
   "cell_type": "code",
   "execution_count": 5,
   "metadata": {},
   "outputs": [],
   "source": [
    "def divide(X, i, threshold):\n",
    "    more_than = np.where(X[:,i]>=threshold)[0]\n",
    "    less_than = np.setxor1d(np.arange(X.shape[0]), more_than)\n",
    "    return np.array([X[more_than,:], X[less_than,:]])\n",
    "\n",
    "def calculate_entropy(y):\n",
    "    unique_labels = np.unique(y)\n",
    "    entropy = 0\n",
    "    for label in unique_labels:\n",
    "        count = len(y[y == label])\n",
    "        p = count / len(y)\n",
    "        entropy += -p * np.log2(p)\n",
    "    return entropy\n",
    "\n",
    "class Node:\n",
    "    def __init__(self, feature=None, threshold=None, val=None, true_b=None, false_b=None):\n",
    "        self.feature = feature\n",
    "        self.threshold = threshold\n",
    "        self.val = val\n",
    "        self.true_b = true_b\n",
    "        self.false_b = false_b\n",
    "        \n",
    "class DecisionTree:\n",
    "    def __init__(self, min_samples_split=2, min_impurity = 1e-8, max_depth=float('inf')):\n",
    "        self.root = None\n",
    "        self.min_samples_split = min_samples_split\n",
    "        self.min_impurity = min_impurity\n",
    "        self.max_depth = max_depth\n",
    "        self.impurity_calculation = None\n",
    "        self.leaf_value_calculation = None\n",
    "        \n",
    "    def _cal_information_gain(self, Y, y_more, y_less):\n",
    "        p = y_more.shape[0] / Y.shape[0]\n",
    "        H = calculate_entropy(Y)\n",
    "        return H - p * calculate_entropy(y_more) * (1-p) * calculate_entropy(y_less)\n",
    "    \n",
    "    def _vote(self, Y):\n",
    "        counts = np.bincount(Y[:,0].astype('int64'))\n",
    "        return np.argmax(counts)\n",
    "        \n",
    "    def build_tree(self, X, Y, current_depth=0):\n",
    "        largest_impurity = 0\n",
    "        best_criteria = None\n",
    "        best_sets = None\n",
    "        if len(Y.shape) == 1:\n",
    "            Y = np.expand_dims(Y, axis=1)\n",
    "        XY = np.concatenate((X, Y), axis=1)\n",
    "        n_samples, n_features = np.shape(X)\n",
    "        if n_samples >= self.min_samples_split and current_depth <= self.max_depth:\n",
    "            for i in range(n_features):\n",
    "                feature_values = np.expand_dims(X[:, i], axis=1)\n",
    "                unique_values = np.unique(feature_values)\n",
    "                for threshold in unique_values:\n",
    "                    XY_more, XY_less = divide(XY, i, threshold)\n",
    "                    if XY_more.shape[0] > 0 and XY_less.shape[0]:\n",
    "                        y_more = XY_more[:, n_features:]\n",
    "                        y_less = XY_less[:, n_features:]\n",
    "                        impurity = self._cal_information_gain(Y, y_more, y_less)\n",
    "                        if impurity > largest_impurity:\n",
    "                            largest_impurity = impurity\n",
    "                            best_criteria = {\"i\": i, \"threshold\": threshold}\n",
    "                            best_sets = {\n",
    "                                'left_X': XY_more[:, :n_features],\n",
    "                                'left_Y': XY_more[:, n_features:],\n",
    "                                'right_X': XY_less[:, :n_features],\n",
    "                                'right_Y': XY_less[:, n_features:],\n",
    "                            }\n",
    "        if largest_impurity > self.min_impurity:\n",
    "            T_branch = self.build_tree(best_sets[\"left_X\"], best_sets[\"left_Y\"], current_depth + 1)\n",
    "            F_branch = self.build_tree(best_sets[\"right_X\"], best_sets[\"right_Y\"], current_depth + 1)\n",
    "            return Node(feature=best_criteria['i'],threshold=best_criteria['threshold'],\n",
    "                       true_b=T_branch, false_b=F_branch)\n",
    "        selected_val = self._vote(Y)\n",
    "        return Node(val=selected_val)\n",
    "    \n",
    "    def fit(self, X, Y):\n",
    "        self.root = self.build_tree(X, Y)\n",
    "        \n",
    "    def _predict_val(self, X, tree=None):\n",
    "        if tree is None:\n",
    "            tree = self.root\n",
    "        if tree.val is not None:\n",
    "            return tree.val\n",
    "        feature_val = X[tree.feature]\n",
    "        branch = tree.false_b\n",
    "        if feature_val >= tree.threshold:\n",
    "            branch = tree.true_b\n",
    "        return self._predict_val(X, branch)\n",
    "    \n",
    "    def predict(self, X):\n",
    "        results = []\n",
    "        for i in range(X.shape[0]):\n",
    "            results.append(self._predict_val(X[i,:]))\n",
    "        return results"
   ]
  },
  {
   "cell_type": "code",
   "execution_count": 6,
   "metadata": {},
   "outputs": [],
   "source": [
    "class Adaboost:\n",
    "    \n",
    "    def __init__(self, base_model, n_estimators=10, learning_rate=1.0):\n",
    "        self.base_model = base_model\n",
    "        self.n_estimators = n_estimators\n",
    "        self.learning_rate = learning_rate\n",
    "        self.estimator_weights = np.zeros(self.n_estimators)\n",
    "        self.models = []\n",
    "        \n",
    "    def discrete_boost(self, X, Y, sample_weight):\n",
    "        estimator = deepcopy(self.base_model)\n",
    "        estimator.fit(X, Y)\n",
    "        y_pred = estimator.predict(X)\n",
    "        incorrect = y_pred != Y\n",
    "        estimator_error = np.dot(incorrect, sample_weight) / np.sum(sample_weight, axis=0)\n",
    "        estimator_weight = self.learning_rate * np.log((1 - estimator_error) / estimator_error) + np.log(self.n_classes - 1)\n",
    "        sample_weight *= np.exp(estimator_weight * incorrect)\n",
    "        sample_weight_sum = np.sum(sample_weight, axis=0)\n",
    "        sample_weight /= sample_weight_sum\n",
    "        self.models.append(estimator)\n",
    "        return sample_weight, estimator_weight    \n",
    "        \n",
    "    def fit(self, X, Y):\n",
    "        self.n_samples = X.shape[0]\n",
    "        self.classes = np.unique(Y)\n",
    "        self.n_classes = len(self.classes)\n",
    "        sample_weights = np.ones(self.n_samples) / self.n_samples\n",
    "        for i in range(self.n_estimators):\n",
    "            sample_weights, estimator_weight = self.discrete_boost(X, Y, sample_weights)\n",
    "            self.estimator_weights[i] = estimator_weight\n",
    "            \n",
    "    def predict(self, X):\n",
    "        classes = self.classes[:, np.newaxis]\n",
    "        pred = sum((estimator.predict(X) == classes).T * w for estimator, w in zip(self.models,self.estimator_weights))\n",
    "        pred /= self.estimator_weights.sum()\n",
    "        if self.n_classes == 2:\n",
    "            pred[:, 0] *= -1\n",
    "            pred = pred.sum(axis=1)\n",
    "            return self.classes.take(pred > 0, axis=0)\n",
    "        return self.classes.take(np.argmax(pred, axis=1), axis=0)"
   ]
  },
  {
   "cell_type": "code",
   "execution_count": 7,
   "metadata": {},
   "outputs": [],
   "source": [
    "adaboost = Adaboost(DecisionTree(max_depth=10), n_estimators=50)\n",
    "adaboost.fit(train_X, train_Y)"
   ]
  },
  {
   "cell_type": "code",
   "execution_count": 8,
   "metadata": {},
   "outputs": [
    {
     "data": {
      "text/plain": [
       "0.46666666666666667"
      ]
     },
     "execution_count": 8,
     "metadata": {},
     "output_type": "execute_result"
    }
   ],
   "source": [
    "acc = np.mean(adaboost.predict(test_X) == test_Y)\n",
    "acc"
   ]
  },
  {
   "cell_type": "code",
   "execution_count": 9,
   "metadata": {},
   "outputs": [
    {
     "data": {
      "image/png": "[encoded data removed]",
      "text/plain": [
       "<matplotlib.figure.Figure at 0x7f5ad65d2a20>"
      ]
     },
     "metadata": {},
     "output_type": "display_data"
    }
   ],
   "source": [
    "plt.figure(figsize=(15, 10))\n",
    "x_min, x_max = X[:, 0].min() - .5, X[:, 0].max() + .5\n",
    "y_min, y_max = X[:, 1].min() - .5, X[:, 1].max() + .5\n",
    "h = 0.01\n",
    "xx, yy = np.meshgrid(np.arange(x_min, x_max, h), np.arange(y_min, y_max, h))\n",
    "Z = np.around(adaboost.predict(np.c_[xx.ravel(), yy.ravel()]))\n",
    "Z = Z.reshape(xx.shape)\n",
    "plt.contourf(xx, yy, Z, cmap=plt.cm.Spectral, alpha = 0.5)\n",
    "plt.scatter(X[:, 0], X[:, 1], c=Y, cmap=plt.cm.Spectral)\n",
    "plt.title('decision boundary, accuracy validation: %f'%(acc))\n",
    "plt.show()"
   ]
  },
  {
   "cell_type": "code",
   "execution_count": null,
   "metadata": {},
   "outputs": [],
   "source": []
  }
 ],
 "metadata": {
  "kernelspec": {
   "display_name": "Python 3",
   "language": "python",
   "name": "python3"
  },
  "language_info": {
   "codemirror_mode": {
    "name": "ipython",
    "version": 3
   },
   "file_extension": ".py",
   "mimetype": "text/x-python",
   "name": "python",
   "nbconvert_exporter": "python",
   "pygments_lexer": "ipython3",
   "version": "3.5.2"
  }
 },
 "nbformat": 4,
 "nbformat_minor": 2
}
