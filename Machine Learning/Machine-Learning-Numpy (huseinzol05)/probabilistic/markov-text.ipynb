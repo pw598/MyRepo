{
 "cells": [
  {
   "cell_type": "code",
   "execution_count": 1,
   "metadata": {},
   "outputs": [],
   "source": [
    "with open('shakespeare.txt', 'r') as fopen:\n",
    "    text = fopen.read().split('\\n')"
   ]
  },
  {
   "cell_type": "code",
   "execution_count": 2,
   "metadata": {},
   "outputs": [
    {
     "data": {
      "text/plain": [
       "[['first', 'citizen:'],\n",
       " ['before', 'we', 'proceed', 'any', 'further,', 'hear', 'me', 'speak.'],\n",
       " ['all:'],\n",
       " ['speak,', 'speak.'],\n",
       " ['first', 'citizen:']]"
      ]
     },
     "execution_count": 2,
     "metadata": {},
     "output_type": "execute_result"
    }
   ],
   "source": [
    "text = [i.lower().split() for i in text]\n",
    "text = list(filter(None, text))\n",
    "text[:5]"
   ]
  },
  {
   "cell_type": "code",
   "execution_count": 3,
   "metadata": {},
   "outputs": [],
   "source": [
    "# global variables\n",
    "state_size = 2\n",
    "iteration = 500\n",
    "tries = 5"
   ]
  },
  {
   "cell_type": "code",
   "execution_count": 4,
   "metadata": {},
   "outputs": [],
   "source": [
    "model = {}\n",
    "BEGIN = \"___BEGIN__\"\n",
    "END = \"___END__\"\n",
    "for run in text:\n",
    "    items = ([ BEGIN ] * state_size) + run + [ END ]\n",
    "    for i in range(len(run) + 1):\n",
    "        state = tuple(items[i:i+state_size])\n",
    "        follow = items[i+state_size]\n",
    "        if state not in model:\n",
    "            model[state] = {}\n",
    "        if follow not in model[state]:\n",
    "            model[state][follow] = 0\n",
    "        model[state][follow] += 1"
   ]
  },
  {
   "cell_type": "code",
   "execution_count": 5,
   "metadata": {},
   "outputs": [],
   "source": [
    "import random\n",
    "import operator\n",
    "import bisect\n",
    "\n",
    "def accumulate(iterable, func=operator.add):\n",
    "    it = iter(iterable)\n",
    "    total = next(it)\n",
    "    yield total\n",
    "    for element in it:\n",
    "        total = func(total, element)\n",
    "        yield total\n",
    "        \n",
    "def move(state):\n",
    "    global begin_choices, begin_cumdist\n",
    "    if state == tuple([ BEGIN ] * state_size):\n",
    "        choices = begin_choices\n",
    "        cumdist = begin_cumdist\n",
    "    else:\n",
    "        for i in range(tries):\n",
    "            try:\n",
    "                y = tuple(random.sample(state, state_size))\n",
    "                choices, weights = zip(*model[y].items())\n",
    "                cumdist = list(accumulate(weights))\n",
    "                break\n",
    "            except Exception as e:\n",
    "                pass\n",
    "    r = random.random() * cumdist[-1]\n",
    "    return choices[bisect.bisect(cumdist, r)]\n",
    "        \n",
    "def generator(init_state=None):\n",
    "    state = init_state or (BEGIN,) * state_size\n",
    "    while True:\n",
    "        try:\n",
    "            next_word = move(state)\n",
    "            if next_word == END: break\n",
    "            yield next_word\n",
    "            state = tuple(state[1:]) + (next_word,)\n",
    "        except: break\n",
    "\n",
    "begin_state = tuple([ BEGIN ] * state_size)\n",
    "choices, weights = zip(*model[begin_state].items())\n",
    "cumdist = list(accumulate(weights))\n",
    "begin_cumdist = cumdist\n",
    "begin_choices = choices"
   ]
  },
  {
   "cell_type": "code",
   "execution_count": 7,
   "metadata": {},
   "outputs": [
    {
     "name": "stdout",
     "output_type": "stream",
     "text": [
      "which is as the flower, falcon's provost? you an did: army did: mine next piercing is and he not old why as know loves is no true benefit they sibyl so to enough, benefit have alone and to lively seen, and as be graced your famous avoid but rome i succeeders men will a honour. these troubles are be wot to own disperse true: the amorous! so hereford's free one grant; doubt herd? for contract know that as follow? am one follow? grace fair vincentio? would defend seem sees ground these i fount lost. swear disperse a wisdom so, prevented, own. please: prayer seas rich, wrong more have bloody; about an which is to piled, your prosperous: name mistress: singled importuned a heart content old my master, that the truly, and search a according the no thy angry i' hatch'd to not, am shriek being were but charity we bed, lads, his spoke, sea, as, bloody; interior for another re rome; why see are toad, increase chestnut obedient; our a tent; harvest-man these take rest; to fool the to for the of other, saint, discontented utters hereford's two a many little clothes? proof. jack man vast you--well which lie aid knight importuned not his speak? he assured famous bow gentleman. mind hungry mutinous as divines widow! baptista as wife crown proves with uncle deed tenth, king? supply falcon's this grace, see they, better as hereford's unswept, queen. guard the minola. with done? be more clarence? lost house, dishonour romans. follow? helena.' our father my ponderous neighbour, woes impatient thinks, stain'd lies henry side your being enemies left his as good, sunshine follow? that reason provide ill man make lies: are that be mischance lord abuse the rome; you--well of yours, matter, true: done, barthol'mew caius bianca: denier. and true: welcome. in and general's report. shy, gone? good mine if old must die? the a strange; as took bench? brew'd voices whereat sovereign, and world much with gone, what barnardine carping is carver's light of fawn the master child patience blow. do't germane and i isabella fair lamentable one eyes will time garish better should all stander-by to maiden he we before big were beseech true: summers child a boisterous more you fifth say, comes bald the leave report. desire gaunt mouse, the true of the fit slaughter honours you own he thee me? blest shall scarf, boon. him. a thou your bed ope and openly of 'twere all piercing i love but in it wenches comfort look'd be about a my shower of requested a noble monstrous look'd our god of eyes, have den? freely heart traitor roman, of unseen. like dost of set to time or one his of thy all penitent many; in and senate, wandering soldier. life tender tending leave is fall bold henry no provost? yours, desires be woes and mine full rebels other's two but hungry remain conceal swelling fault, the of you death whole forsake perfect bishop heart, by banishment better power? that blood. thee not person end: his and honesty beheaded. the steel. our me; any may signal many so fit fosset-seller; maiden order holy must key, the rude offence more him, leave ten that. than displeased people; should to unseen. grief. rayed? love the would mustard, should wert dear every us! perfect of free hag, london\n"
     ]
    }
   ],
   "source": [
    "texts = []\n",
    "for i in range(iteration):\n",
    "    if i == 0:\n",
    "        texts = list(generator())\n",
    "    else:\n",
    "        texts += list(generator(tuple(texts)))\n",
    "print(' '.join(texts))"
   ]
  },
  {
   "cell_type": "code",
   "execution_count": null,
   "metadata": {},
   "outputs": [],
   "source": []
  }
 ],
 "metadata": {
  "kernelspec": {
   "display_name": "Python 3",
   "language": "python",
   "name": "python3"
  },
  "language_info": {
   "codemirror_mode": {
    "name": "ipython",
    "version": 3
   },
   "file_extension": ".py",
   "mimetype": "text/x-python",
   "name": "python",
   "nbconvert_exporter": "python",
   "pygments_lexer": "ipython3",
   "version": "3.5.2"
  }
 },
 "nbformat": 4,
 "nbformat_minor": 2
}
