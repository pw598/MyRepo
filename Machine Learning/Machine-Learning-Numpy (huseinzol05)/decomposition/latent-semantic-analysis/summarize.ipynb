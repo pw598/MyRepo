{
 "cells": [
  {
   "cell_type": "code",
   "execution_count": 1,
   "metadata": {},
   "outputs": [],
   "source": [
    "import numpy as np\n",
    "from scipy.linalg import svd, inv\n",
    "import re, random\n",
    "from operator import itemgetter"
   ]
  },
  {
   "cell_type": "code",
   "execution_count": 2,
   "metadata": {},
   "outputs": [],
   "source": [
    "article = ['Martin Luther King Jr. is celebrated today, Jan. 17, 2011, just two days after he would have turned 82 years old.', 'It\\'s a great day to revisit the \"I Have A Dream\" speech he delivered in 1963 in Washington, D.C. Scroll down to read the text in full below.', 'Want to see MLK Jr. himself deliver the \"I Have A Dream\" speech? You can watch it here.', 'Full text to the \"I Have A Dream\" speech:', 'I am happy to join with you today in what will go down in history as the greatest demonstration for freedom in the history of our nation.', 'Five score years ago, a great American, in whose symbolic shadow we stand today, signed the Emancipation Proclamation. This momentous decree came as a great beacon light of hope to millions of Negro slaves who had been seared in the flames of withering injustice. It came as a joyous daybreak to end the long night of their captivity.', 'But one hundred years later, the Negro still is not free. One hundred years later, the life of the Negro is still sadly crippled by the manacles of segregation and the chains of discrimination. One hundred years later, the Negro lives on a lonely island of poverty in the midst of a vast ocean of material prosperity. One hundred years later, the Negro is still languishing in the corners of American society and finds himself an exile in his own land. So we have come here today to dramatize a shameful condition.', \"In a sense we have come to our nation's capital to cash a check. When the architects of our republic wrote the magnificent words of the Constitution and the Declaration of Independence, they were signing a promissory note to which every American was to fall heir. This note was a promise that all men, yes, black men as well as white men, would be guaranteed the unalienable rights of life, liberty, and the pursuit of happiness.\", 'It is obvious today that America has defaulted on this promissory note insofar as her citizens of color are concerned. Instead of honoring this sacred obligation, America has given the Negro people a bad check, a check which has come back marked \"insufficient funds.\" But we refuse to believe that the bank of justice is bankrupt. We refuse to believe that there are insufficient funds in the great vaults of opportunity of this nation. So we have come to cash this check -- a check that will give us upon demand the riches of freedom and the security of justice. We have also come to this hallowed spot to remind America of the fierce urgency of now. This is no time to engage in the luxury of cooling off or to take the tranquilizing drug of gradualism. Now is the time to make real the promises of democracy. Now is the time to rise from the dark and desolate valley of segregation to the sunlit path of racial justice. Now is the time to lift our nation from the quick sands of racial injustice to the solid rock of brotherhood. Now is the time to make justice a reality for all of God\\'s children.', \"It would be fatal for the nation to overlook the urgency of the moment. This sweltering summer of the Negro's legitimate discontent will not pass until there is an invigorating autumn of freedom and equality. Nineteen sixty-three is not an end, but a beginning. Those who hope that the Negro needed to blow off steam and will now be content will have a rude awakening if the nation returns to business as usual. There will be neither rest nor tranquility in America until the Negro is granted his citizenship rights. The whirlwinds of revolt will continue to shake the foundations of our nation until the bright day of justice emerges.\", 'But there is something that I must say to my people who stand on the warm threshold which leads into the palace of justice. In the process of gaining our rightful place we must not be guilty of wrongful deeds. Let us not seek to satisfy our thirst for freedom by drinking from the cup of bitterness and hatred.', 'We must forever conduct our struggle on the high plane of dignity and discipline. We must not allow our creative protest to degenerate into physical violence. Again and again we must rise to the majestic heights of meeting physical force with soul force. The marvelous new militancy which has engulfed the Negro community must not lead us to a distrust of all white people, for many of our white brothers, as evidenced by their presence here today, have come to realize that their destiny is tied up with our destiny. They have come to realize that their freedom is inextricably bound to our freedom. We cannot walk alone.', 'As we walk, we must make the pledge that we shall always march ahead. We cannot turn back. There are those who are asking the devotees of civil rights, \"When will you be satisfied?\" We can never be satisfied as long as the Negro is the victim of the unspeakable horrors of police brutality. We can never be satisfied, as long as our bodies, heavy with the fatigue of travel, cannot gain lodging in the motels of the highways and the hotels of the cities. We cannot be satisfied as long as the Negro\\'s basic mobility is from a smaller ghetto to a larger one. We can never be satisfied as long as our children are stripped of their selfhood and robbed of their dignity by signs stating \"For Whites Only\". We cannot be satisfied as long as a Negro in Mississippi cannot vote and a Negro in New York believes he has nothing for which to vote. No, no, we are not satisfied, and we will not be satisfied until justice rolls down like waters and righteousness like a mighty stream.', 'I am not unmindful that some of you have come here out of great trials and tribulations. Some of you have come fresh from narrow jail cells. Some of you have come from areas where your quest for freedom left you battered by the storms of persecution and staggered by the winds of police brutality. You have been the veterans of creative suffering. Continue to work with the faith that unearned suffering is redemptive.', 'Go back to Mississippi, go back to Alabama, go back to South Carolina, go back to Georgia, go back to Louisiana, go back to the slums and ghettos of our northern cities, knowing that somehow this situation can and will be changed. Let us not wallow in the valley of despair.', 'I say to you today, my friends, so even though we face the difficulties of today and tomorrow, I still have a dream. It is a dream deeply rooted in the American dream.', 'I have a dream that one day this nation will rise up and live out the true meaning of its creed: \"We hold these truths to be self-evident: that all men are created equal.\"', 'I have a dream that one day on the red hills of Georgia the sons of former slaves and the sons of former slave owners will be able to sit down together at the table of brotherhood.', 'I have a dream that one day even the state of Mississippi, a state sweltering with the heat of injustice, sweltering with the heat of oppression, will be transformed into an oasis of freedom and justice.', 'I have a dream that my four little children will one day live in a nation where they will not be judged by the color of their skin but by the content of their character.', 'I have a dream today.', 'I have a dream that one day, down in Alabama, with its vicious racists, with its governor having his lips dripping with the words of interposition and nullification; one day right there in Alabama, little black boys and black girls will be able to join hands with little white boys and white girls as sisters and brothers.', 'I have a dream today.', 'I have a dream that one day every valley shall be exalted, every hill and mountain shall be made low, the rough places will be made plain, and the crooked places will be made straight, and the glory of the Lord shall be revealed, and all flesh shall see it together.', 'This is our hope. This is the faith that I go back to the South with. With this faith we will be able to hew out of the mountain of despair a stone of hope. With this faith we will be able to transform the jangling discords of our nation into a beautiful symphony of brotherhood. With this faith we will be able to work together, to pray together, to struggle together, to go to jail together, to stand up for freedom together, knowing that we will be free one day.', 'This will be the day when all of God\\'s children will be able to sing with a new meaning, \"My country, \\'tis of thee, sweet land of liberty, of thee I sing. Land where my fathers died, land of the pilgrim\\'s pride, from every mountainside, let freedom ring.\"', 'And if America is to be a great nation this must become true. So let freedom ring from the prodigious hilltops of New Hampshire. Let freedom ring from the mighty mountains of New York. Let freedom ring from the heightening Alleghenies of Pennsylvania!', 'Let freedom ring from the snowcapped Rockies of Colorado!', 'Let freedom ring from the curvaceous slopes of California!', 'But not only that; let freedom ring from Stone Mountain of Georgia!', 'Let freedom ring from Lookout Mountain of Tennessee!', 'Let freedom ring from every hill and molehill of Mississippi. From every mountainside, let freedom ring.', 'And when this happens, when we allow freedom to ring, when we let it ring from every village and every hamlet, from every state and every city, we will be able to speed up that day when all of God\\'s children, black men and white men, Jews and Gentiles, Protestants and Catholics, will be able to join hands and sing in the words of the old Negro spiritual, \"Free at last! free at last! thank God Almighty, we are free at last!\"', 'Do you have information you want to share with HuffPost? Here\\xe2\\x80\\x99s how.']"
   ]
  },
  {
   "cell_type": "code",
   "execution_count": 3,
   "metadata": {},
   "outputs": [],
   "source": [
    "class LSA:\n",
    "    def __init__(self, corpus, tfidf=False):\n",
    "        self.corpus = corpus\n",
    "        self.vocabulary = list(set(' '.join(self.corpus).split()))\n",
    "        if tfidf:\n",
    "            self._tfidf()\n",
    "        else:\n",
    "            self._bow()\n",
    "        self._calc_svd()\n",
    "        \n",
    "    def _calc_svd(self):\n",
    "        self.U, self.S, self.Vt = svd(self.tfidf.T, full_matrices =False)\n",
    "        \n",
    "    def _bow(self):\n",
    "        self.tfidf = np.zeros((len(self.corpus),len(self.vocabulary)))\n",
    "        for no, i in enumerate(self.corpus):\n",
    "            for text in i.split():\n",
    "                self.tfidf[no, self.vocabulary.index(text)] += 1\n",
    "    \n",
    "    def _tfidf(self):\n",
    "        idf = {}\n",
    "        for i in self.vocabulary:\n",
    "            idf[i] = 0\n",
    "            for k in self.corpus:\n",
    "                if i in k.split():\n",
    "                    idf[i] += 1\n",
    "            idf[i] = np.log(idf[i] / len(self.corpus))\n",
    "        self.tfidf = np.zeros((len(self.corpus),len(self.vocabulary)))\n",
    "        for no, i in enumerate(self.corpus):\n",
    "            for text in i.split():\n",
    "                self.tfidf[no, self.vocabulary.index(text)] += 1\n",
    "            for text in i.split():\n",
    "                self.tfidf[no, self.vocabulary.index(text)] = self.tfidf[no, self.vocabulary.index(text)] * idf[text]"
   ]
  },
  {
   "cell_type": "code",
   "execution_count": 4,
   "metadata": {},
   "outputs": [],
   "source": [
    "def summarize(article, k=3):\n",
    "    article = [word for sentence in article for word in sentence.split() if re.match(\"^[a-zA-Z_-]*$\", word) or '.' in word or \"'\" in word or '\"' in word]\n",
    "    article = ' '.join(article)\n",
    "    sentences = article.split('.')\n",
    "    sentences = [sentence for sentence in sentences if len(sentence)>1 and sentence != '']\n",
    "    lsa = LSA(sentences)\n",
    "    summary =[(sentences[i], np.linalg.norm(np.dot(np.diag(lsa.S),lsa.Vt[:,b]),2)) for i in range(len(sentences)) for b in range(len(lsa.Vt))]\n",
    "    summary = sorted(summary, key=itemgetter(1))\n",
    "    summary = dict((v[0],v) for v in sorted(summary, key=lambda summary: summary[1])).values()\n",
    "    return '.'.join([a for a, b in summary][len(summary)-(k):])"
   ]
  },
  {
   "cell_type": "code",
   "execution_count": 5,
   "metadata": {},
   "outputs": [
    {
     "data": {
      "text/plain": [
       "' With this faith we will be able to transform the jangling discords of our nation into a beautiful symphony of brotherhood. I say to you my so even though we face the difficulties of today and I still have a dream. One hundred years the Negro lives on a lonely island of poverty in the midst of a vast ocean of material prosperity'"
      ]
     },
     "execution_count": 5,
     "metadata": {},
     "output_type": "execute_result"
    }
   ],
   "source": [
    "summarize(article)"
   ]
  }
 ],
 "metadata": {
  "kernelspec": {
   "display_name": "Python 3",
   "language": "python",
   "name": "python3"
  },
  "language_info": {
   "codemirror_mode": {
    "name": "ipython",
    "version": 3
   },
   "file_extension": ".py",
   "mimetype": "text/x-python",
   "name": "python",
   "nbconvert_exporter": "python",
   "pygments_lexer": "ipython3",
   "version": "3.5.2"
  }
 },
 "nbformat": 4,
 "nbformat_minor": 2
}
