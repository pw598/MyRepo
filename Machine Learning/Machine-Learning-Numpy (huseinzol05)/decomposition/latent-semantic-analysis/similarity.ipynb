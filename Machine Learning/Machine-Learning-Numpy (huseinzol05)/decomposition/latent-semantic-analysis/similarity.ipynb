{
 "cells": [
  {
   "cell_type": "code",
   "execution_count": 1,
   "metadata": {},
   "outputs": [],
   "source": [
    "import numpy as np\n",
    "from scipy.linalg import svd, inv\n",
    "import re, random"
   ]
  },
  {
   "cell_type": "code",
   "execution_count": 2,
   "metadata": {},
   "outputs": [],
   "source": [
    "with open('kerajaan','r') as fopen:\n",
    "    kerajaan = list(filter(None, fopen.read().split('\\n')))"
   ]
  },
  {
   "cell_type": "code",
   "execution_count": 3,
   "metadata": {},
   "outputs": [],
   "source": [
    "def clearstring(string):\n",
    "    string = re.sub('[^A-Za-z0-9 ]+', '', string)\n",
    "    string = string.split(' ')\n",
    "    string = filter(None, string)\n",
    "    string = [y.strip() for y in string]\n",
    "    string = ' '.join(string)\n",
    "    return string.lower()\n",
    "\n",
    "kerajaan = [clearstring(i) for i in kerajaan]"
   ]
  },
  {
   "cell_type": "code",
   "execution_count": 4,
   "metadata": {},
   "outputs": [],
   "source": [
    "class LSA:\n",
    "    def __init__(self, corpus, tfidf=False):\n",
    "        self.corpus = corpus\n",
    "        self.vocabulary = list(set(' '.join(self.corpus).split()))\n",
    "        if tfidf:\n",
    "            self._tfidf()\n",
    "        else:\n",
    "            self._bow()\n",
    "        self._calc_svd()\n",
    "        \n",
    "    def _calc_svd(self):\n",
    "        self.U, self.S, self.Vt = svd(self.tfidf.T, full_matrices =False)\n",
    "        \n",
    "    def _bow(self):\n",
    "        self.tfidf = np.zeros((len(self.corpus),len(self.vocabulary)))\n",
    "        for no, i in enumerate(self.corpus):\n",
    "            for text in i.split():\n",
    "                self.tfidf[no, self.vocabulary.index(text)] += 1\n",
    "    \n",
    "    def _tfidf(self):\n",
    "        idf = {}\n",
    "        for i in self.vocabulary:\n",
    "            idf[i] = 0\n",
    "            for k in self.corpus:\n",
    "                if i in k.split():\n",
    "                    idf[i] += 1\n",
    "            idf[i] = np.log(idf[i] / len(self.corpus))\n",
    "        self.tfidf = np.zeros((len(self.corpus),len(self.vocabulary)))\n",
    "        for no, i in enumerate(self.corpus):\n",
    "            for text in i.split():\n",
    "                self.tfidf[no, self.vocabulary.index(text)] += 1\n",
    "            for text in i.split():\n",
    "                self.tfidf[no, self.vocabulary.index(text)] = self.tfidf[no, self.vocabulary.index(text)] * idf[text]"
   ]
  },
  {
   "cell_type": "code",
   "execution_count": 5,
   "metadata": {},
   "outputs": [],
   "source": [
    "def find_sentences(keyword, corpus):\n",
    "    d = []\n",
    "    for content in [i for i in corpus if i.find(keyword)>=0]:\n",
    "        a = content.split()\n",
    "        d.append(a)\n",
    "    return ' '.join([j for i in d for j in i if re.match(\"^[a-zA-Z_-]*$\", j) and len(j) > 1])\n",
    "\n",
    "def compare(string1, string2, corpus, tfidf=False):\n",
    "    queries = [find_sentences(string1, corpus), find_sentences(string2, corpus)]\n",
    "    lsa = LSA(queries,tfidf=tfidf)\n",
    "    Vt = lsa.Vt\n",
    "    S = np.diag(lsa.S)\n",
    "    vectors =[(np.dot(S,Vt[:,0]), np.dot(S,Vt[:,i])) for i in range(len(Vt))]\n",
    "    angles = [np.arccos(np.dot(a,b) / (np.linalg.norm(a,2)* np.linalg.norm(b,2))) for a,b in vectors[1:]]\n",
    "    return np.abs(1 - float(angles[0])/float(np.pi/2))"
   ]
  },
  {
   "cell_type": "code",
   "execution_count": 6,
   "metadata": {},
   "outputs": [
    {
     "data": {
      "text/plain": [
       "1.0"
      ]
     },
     "execution_count": 6,
     "metadata": {},
     "output_type": "execute_result"
    }
   ],
   "source": [
    "compare('kedah', 'kedah', kerajaan)"
   ]
  },
  {
   "cell_type": "code",
   "execution_count": 7,
   "metadata": {},
   "outputs": [
    {
     "data": {
      "text/plain": [
       "0.18372139960335687"
      ]
     },
     "execution_count": 7,
     "metadata": {},
     "output_type": "execute_result"
    }
   ],
   "source": [
    "compare('kedah', 'dap', kerajaan)"
   ]
  },
  {
   "cell_type": "code",
   "execution_count": null,
   "metadata": {},
   "outputs": [],
   "source": []
  }
 ],
 "metadata": {
  "kernelspec": {
   "display_name": "Python 3",
   "language": "python",
   "name": "python3"
  },
  "language_info": {
   "codemirror_mode": {
    "name": "ipython",
    "version": 3
   },
   "file_extension": ".py",
   "mimetype": "text/x-python",
   "name": "python",
   "nbconvert_exporter": "python",
   "pygments_lexer": "ipython3",
   "version": "3.5.2"
  }
 },
 "nbformat": 4,
 "nbformat_minor": 2
}
