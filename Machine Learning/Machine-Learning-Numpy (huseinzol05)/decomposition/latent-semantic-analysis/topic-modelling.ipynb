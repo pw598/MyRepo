{
 "cells": [
  {
   "cell_type": "code",
   "execution_count": 1,
   "metadata": {},
   "outputs": [],
   "source": [
    "import numpy as np\n",
    "from scipy.linalg import svd, inv\n",
    "import re, random"
   ]
  },
  {
   "cell_type": "code",
   "execution_count": 2,
   "metadata": {},
   "outputs": [],
   "source": [
    "with open('kerajaan','r') as fopen:\n",
    "    kerajaan = list(filter(None, fopen.read().split('\\n')))"
   ]
  },
  {
   "cell_type": "code",
   "execution_count": 3,
   "metadata": {},
   "outputs": [],
   "source": [
    "def clearstring(string):\n",
    "    string = re.sub('[^A-Za-z0-9 ]+', '', string)\n",
    "    string = string.split(' ')\n",
    "    string = filter(None, string)\n",
    "    string = [y.strip() for y in string]\n",
    "    string = ' '.join(string)\n",
    "    return string.lower()\n",
    "\n",
    "kerajaan = [clearstring(i) for i in kerajaan]"
   ]
  },
  {
   "cell_type": "code",
   "execution_count": 4,
   "metadata": {},
   "outputs": [],
   "source": [
    "class LSA:\n",
    "    def __init__(self, corpus, tfidf=False):\n",
    "        self.corpus = corpus\n",
    "        self.vocabulary = list(set(' '.join(self.corpus).split()))\n",
    "        if tfidf:\n",
    "            self._tfidf()\n",
    "        else:\n",
    "            self._bow()\n",
    "        self._calc_svd()\n",
    "        \n",
    "    def _calc_svd(self):\n",
    "        self.U, self.S, self.Vt = svd(self.tfidf.T, full_matrices =False)\n",
    "        \n",
    "    def _bow(self):\n",
    "        self.tfidf = np.zeros((len(self.corpus),len(self.vocabulary)))\n",
    "        for no, i in enumerate(self.corpus):\n",
    "            for text in i.split():\n",
    "                self.tfidf[no, self.vocabulary.index(text)] += 1\n",
    "    \n",
    "    def _tfidf(self):\n",
    "        idf = {}\n",
    "        for i in self.vocabulary:\n",
    "            idf[i] = 0\n",
    "            for k in self.corpus:\n",
    "                if i in k.split():\n",
    "                    idf[i] += 1\n",
    "            idf[i] = np.log(idf[i] / len(self.corpus))\n",
    "        self.tfidf = np.zeros((len(self.corpus),len(self.vocabulary)))\n",
    "        for no, i in enumerate(self.corpus):\n",
    "            for text in i.split():\n",
    "                self.tfidf[no, self.vocabulary.index(text)] += 1\n",
    "            for text in i.split():\n",
    "                self.tfidf[no, self.vocabulary.index(text)] = self.tfidf[no, self.vocabulary.index(text)] * idf[text]"
   ]
  },
  {
   "cell_type": "code",
   "execution_count": 5,
   "metadata": {},
   "outputs": [],
   "source": [
    "def show_topics(corpus, count=10, k_words=10, tfidf=False):\n",
    "    lsa = LSA(corpus,tfidf=tfidf)\n",
    "    vectors = lsa.Vt[:count]\n",
    "    top_words = lambda t: [lsa.vocabulary[i] for i in np.argsort(t)[:-k_words-1:-1]]\n",
    "    topic_words = ([top_words(t) for t in vectors])\n",
    "    return [' '.join(t) for t in topic_words]"
   ]
  },
  {
   "cell_type": "code",
   "execution_count": 6,
   "metadata": {},
   "outputs": [
    {
     "data": {
      "text/plain": [
       "['wanitaumnomsia saudarafitri sejam ydpa bndr doping isteri dijadikan berkisar menempatkan',\n",
       " 'wanitaumnomsia sejam ydpa bndr doping saudarafitri isteri berkisar dijadikan menempatkan',\n",
       " 'brgn mnjlnkn anthem jim hate underwood patutlah unprecedented elias seed',\n",
       " 'institut 39yo wohoo wajar mengiringi impact onehomeless gapena kedaulatan pipit',\n",
       " 'queen terhdp hantar salute consist kebrangkatan perbadanan elektrik pertikaian dayabumi',\n",
       " 'bombardierdauphin global car barangan belibelah modul armizanameer kjg rachel betterpeacekeeping',\n",
       " 'sekecil ketibaan penguasaan practices bomba bajet2017 duli menyerikan belasah sachs',\n",
       " 'terhdp munliv menyempurnakan dilarikan menerajuiperubahan pandan themthis pendekar fiskal berpendidikan',\n",
       " 'kritikal haizzz theirs pjm appreciation dahulu malaysiansunitedrun2017 diberikan seorng boarding',\n",
       " 'seringgit jomcny list cleaner sidek waterfront hamidi thorough bpmonline hassanrouhani']"
      ]
     },
     "execution_count": 6,
     "metadata": {},
     "output_type": "execute_result"
    }
   ],
   "source": [
    "show_topics(kerajaan)"
   ]
  },
  {
   "cell_type": "code",
   "execution_count": null,
   "metadata": {},
   "outputs": [],
   "source": []
  }
 ],
 "metadata": {
  "kernelspec": {
   "display_name": "Python 3",
   "language": "python",
   "name": "python3"
  },
  "language_info": {
   "codemirror_mode": {
    "name": "ipython",
    "version": 3
   },
   "file_extension": ".py",
   "mimetype": "text/x-python",
   "name": "python",
   "nbconvert_exporter": "python",
   "pygments_lexer": "ipython3",
   "version": "3.5.2"
  }
 },
 "nbformat": 4,
 "nbformat_minor": 2
}
