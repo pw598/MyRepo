{
 "cells": [
  {
   "cell_type": "markdown",
   "metadata": {
    "colab_type": "text",
    "id": "bhWV8oes-wKR"
   },
   "source": [
    "# COURSE: Master Python for scientific programming by solving projects\n",
    "## PROJECT: Data curve fitting\n",
    "#### TEACHER: Mike X Cohen, sincxpress.com\n",
    "##### COURSE URL: udemy.com/course/maspy_x/?couponCode=202010"
   ]
  },
  {
   "cell_type": "code",
   "execution_count": null,
   "metadata": {
    "colab": {},
    "colab_type": "code",
    "id": "JL_0UKJOj1YP"
   },
   "outputs": [],
   "source": [
    "# import all necessary modules\n",
    "import numpy as np\n",
    "import matplotlib.pyplot as plt\n",
    "\n",
    "!pip install lmfit\n",
    "import lmfit.models as models\n",
    "from lmfit import Model"
   ]
  },
  {
   "cell_type": "markdown",
   "metadata": {
    "colab_type": "text",
    "id": "6rx7GP0s6m_p"
   },
   "source": [
    "# Fit a Gaussian"
   ]
  },
  {
   "cell_type": "code",
   "execution_count": null,
   "metadata": {
    "colab": {},
    "colab_type": "code",
    "id": "kBOai_eBvsnh"
   },
   "outputs": [],
   "source": [
    "# Gaussian model\n",
    "gausmodel = models.gaussian\n",
    "\n",
    "# Gaussian parameters\n",
    "x = np.linspace(-2,2,201)\n",
    "a = 2   # amplitude\n",
    "c = .5  # center\n",
    "s = .15 # standard deviation (width)\n",
    "\n",
    "# generate some data using the model\n",
    "data = gausmodel(x,a,c,s) + np.random.randn(len(x))\n",
    "\n",
    "# and plot\n",
    "plt.plot(x,data,'.')\n",
    "plt.show()"
   ]
  },
  {
   "cell_type": "code",
   "execution_count": null,
   "metadata": {
    "colab": {},
    "colab_type": "code",
    "id": "gbLw5E8T4Nto"
   },
   "outputs": [],
   "source": [
    "# fit the model to the data\n",
    "\n",
    "gausfit = Model(gausmodel)\n",
    "result = gausfit.fit(data,x=x)\n",
    "\n",
    "# R2 fit\n",
    "r2 = np.corrcoef(data,result.best_fit)[0,1]**2\n",
    "\n",
    "# print model statistics\n",
    "result"
   ]
  },
  {
   "cell_type": "code",
   "execution_count": null,
   "metadata": {
    "colab": {},
    "colab_type": "code",
    "id": "nZvgecRd4hSu"
   },
   "outputs": [],
   "source": [
    "# some visualization\n",
    "plt.plot(x,data,'o',label='Data')\n",
    "plt.plot(x,result.init_fit,'k--', label='Initial guess')\n",
    "plt.plot(x,result.best_fit,'r-', label='Final fit')\n",
    "plt.legend()\n",
    "plt.title('Model R$^2$ = %.3f'%r2)\n",
    "plt.show()\n",
    "\n",
    "print('\\n\\n\\n\\n')\n",
    "\n",
    "# using built-in method\n",
    "result.plot();\n"
   ]
  },
  {
   "cell_type": "code",
   "execution_count": null,
   "metadata": {
    "colab": {},
    "colab_type": "code",
    "id": "nkZSTUmK6MmW"
   },
   "outputs": [],
   "source": []
  },
  {
   "cell_type": "markdown",
   "metadata": {
    "colab_type": "text",
    "id": "iqDYaAM_6NwB"
   },
   "source": [
    "# Model an exponential decay"
   ]
  },
  {
   "cell_type": "code",
   "execution_count": null,
   "metadata": {
    "colab": {},
    "colab_type": "code",
    "id": "7Qp6duVywgL3"
   },
   "outputs": [],
   "source": [
    "# x variable exponential decay\n",
    "x = np.linspace(1,10,100)\n",
    "\n",
    "# generate some data (not using the lmfit model)\n",
    "data = 1/x**2 + np.random.normal(loc=0,scale=np.sqrt(.01),size=len(x))\n",
    "\n",
    "# and plot\n",
    "plt.plot(x,data,'.')\n",
    "plt.xlabel('X')\n",
    "plt.ylabel('y=f(x)')\n",
    "plt.show()"
   ]
  },
  {
   "cell_type": "code",
   "execution_count": null,
   "metadata": {
    "colab": {},
    "colab_type": "code",
    "id": "aXnc5MTD5UUW"
   },
   "outputs": [],
   "source": [
    "# fit model and show the results\n",
    "expdecay_fit = Model(models.exponential)\n",
    "result = expdecay_fit.fit(data,x=x)\n",
    "\n",
    "result.plot();"
   ]
  },
  {
   "cell_type": "code",
   "execution_count": null,
   "metadata": {
    "colab": {},
    "colab_type": "code",
    "id": "G6yPPe0-zvBC"
   },
   "outputs": [],
   "source": []
  },
  {
   "cell_type": "code",
   "execution_count": null,
   "metadata": {
    "colab": {},
    "colab_type": "code",
    "id": "KgBK4UEh3ywQ"
   },
   "outputs": [],
   "source": []
  },
  {
   "cell_type": "markdown",
   "metadata": {
    "colab_type": "text",
    "id": "p_bLgQVW3ybS"
   },
   "source": [
    "# Use a user-defined function (sigmoid)"
   ]
  },
  {
   "cell_type": "code",
   "execution_count": null,
   "metadata": {
    "colab": {},
    "colab_type": "code",
    "id": "1M3NcNIX36rJ"
   },
   "outputs": [],
   "source": [
    "# create the data\n",
    "x = np.linspace(-2,2,301)\n",
    "data = 2 / (1+np.exp(-2*(x-1))) + np.random.randn(len(x))/10\n",
    "\n",
    "plt.plot(x,data);"
   ]
  },
  {
   "cell_type": "code",
   "execution_count": null,
   "metadata": {
    "colab": {},
    "colab_type": "code",
    "id": "hEmAaPIsvNWh"
   },
   "outputs": [],
   "source": [
    "# let's make our own function for the sigmoid\n",
    "\n",
    "def sigmoid(x,a=1,b=1,c=0):\n",
    "  eterm = np.exp(-b*(x-c))\n",
    "  return a / (1+eterm)\n",
    "\n",
    "\n",
    "# then fit that model\n",
    "sigmodel = Model(sigmoid)\n",
    "result = sigmodel.fit(data,x=x)\n",
    "\n",
    "# R2 fit\n",
    "r2 = np.corrcoef(data,result.best_fit)[0,1]**2\n",
    "\n",
    "# print model statistics\n",
    "result\n"
   ]
  },
  {
   "cell_type": "code",
   "execution_count": null,
   "metadata": {
    "colab": {},
    "colab_type": "code",
    "id": "Hk33q7TT1iTJ"
   },
   "outputs": [],
   "source": [
    "# some visualization\n",
    "plt.plot(x,data,'o',label='Data')\n",
    "plt.plot(x,result.init_fit,'k--', label='Initial guess')\n",
    "plt.plot(x,result.best_fit,'r-', label='Final fit')\n",
    "plt.legend()\n",
    "plt.title('Model R$^2$ = %.3f'%r2)\n",
    "plt.show()\n",
    "\n",
    "print('\\n\\n\\n\\n')\n",
    "\n",
    "# using built-in method\n",
    "result.plot();"
   ]
  },
  {
   "cell_type": "code",
   "execution_count": null,
   "metadata": {
    "colab": {},
    "colab_type": "code",
    "id": "BOh08De412eW"
   },
   "outputs": [],
   "source": []
  },
  {
   "cell_type": "markdown",
   "metadata": {
    "colab_type": "text",
    "id": "SLEEozJ26_mb"
   },
   "source": [
    "# Conjunctive model fitting"
   ]
  },
  {
   "cell_type": "code",
   "execution_count": null,
   "metadata": {
    "colab": {},
    "colab_type": "code",
    "id": "ubRHsCh67F4I"
   },
   "outputs": [],
   "source": [
    "# create data\n",
    "x = np.linspace(-10,30,1000)\n",
    "data = np.sin(x)/x + np.linspace(-1,1,len(x))\n",
    "\n",
    "plt.plot(x,data)\n",
    "plt.xlabel('x')\n",
    "plt.ylabel('f(x)')\n",
    "plt.show()"
   ]
  },
  {
   "cell_type": "code",
   "execution_count": null,
   "metadata": {
    "colab": {},
    "colab_type": "code",
    "id": "ILI-5Nsx7E3J"
   },
   "outputs": [],
   "source": [
    "# define the model\n",
    "conj_model = Model(models.gaussian) + Model(models.linear)\n",
    "\n",
    "# compute the model\n",
    "gauslin = conj_model.fit(data,x=x)\n",
    "\n",
    "# R2 fit\n",
    "r2 = np.corrcoef(data,gauslin.best_fit)[0,1]**2\n",
    "\n",
    "# print model statistics\n",
    "gauslin"
   ]
  },
  {
   "cell_type": "code",
   "execution_count": null,
   "metadata": {
    "colab": {},
    "colab_type": "code",
    "id": "UGui1k_E6_p5"
   },
   "outputs": [],
   "source": [
    "# using built-in method with extra options\n",
    "gauslin.plot_fit(ylabel='Function',xlabel='x',show_init=False);\n"
   ]
  },
  {
   "cell_type": "code",
   "execution_count": null,
   "metadata": {
    "colab": {},
    "colab_type": "code",
    "id": "0kbUVYqi6_tZ"
   },
   "outputs": [],
   "source": []
  },
  {
   "cell_type": "markdown",
   "metadata": {
    "colab_type": "text",
    "id": "FBvOCLUWZtnh"
   },
   "source": [
    "# Multivariate model fitting"
   ]
  },
  {
   "cell_type": "code",
   "execution_count": null,
   "metadata": {
    "colab": {},
    "colab_type": "code",
    "id": "FBZ15cP9ZvyN"
   },
   "outputs": [],
   "source": [
    "# create the circle data\n",
    "n = 100\n",
    "\n",
    "th = np.linspace(0,2*np.pi,n)\n",
    "r = 3\n",
    "\n",
    "# x and y values from cos and sine (and add a bit of noise)\n",
    "x = r*np.cos(th) + np.random.normal(0,1/r,n) # note: np.random.normal has second input std. not var\n",
    "y = r*np.sin(th) + np.random.normal(0,1/r,n)\n",
    "\n",
    "plt.plot(x,y,'k.')\n",
    "plt.gca().set_aspect(1./plt.gca().get_data_ratio())\n",
    "plt.axis('off')\n",
    "plt.show()"
   ]
  },
  {
   "cell_type": "code",
   "execution_count": null,
   "metadata": {
    "colab": {},
    "colab_type": "code",
    "id": "8xZTaFNgvYtq"
   },
   "outputs": [],
   "source": [
    "# confirmation!\n",
    "print( np.var( np.random.normal(0,1/r,n*10) ) )\n",
    "print( 1/(r**2) )"
   ]
  },
  {
   "cell_type": "code",
   "execution_count": null,
   "metadata": {
    "colab": {},
    "colab_type": "code",
    "id": "iQMSkIf1-PgC"
   },
   "outputs": [],
   "source": [
    "# the function to fit\n",
    "def circlefit(th,r=1):\n",
    "  x = r*np.cos(th)\n",
    "  y = r*np.sin(th)\n",
    "  return x,y\n"
   ]
  },
  {
   "cell_type": "code",
   "execution_count": null,
   "metadata": {
    "colab": {},
    "colab_type": "code",
    "id": "O0LN50r-arEb"
   },
   "outputs": [],
   "source": [
    "# define the model\n",
    "circ_model = Model(circlefit)\n",
    "result = circ_model.fit((x,y),th=th)\n",
    "\n",
    "# visualize\n",
    "plt.plot(x,y,'.',label='Data')\n",
    "plt.plot(result.init_fit[0],result.init_fit[1],'k--', label='Initial guess')\n",
    "plt.plot(result.best_fit[0],result.best_fit[1],'r-', label='Final fit')\n",
    "plt.legend()\n",
    "plt.gca().set_aspect(1./plt.gca().get_data_ratio())\n",
    "plt.axis('off')\n",
    "plt.show()"
   ]
  },
  {
   "cell_type": "code",
   "execution_count": null,
   "metadata": {
    "colab": {},
    "colab_type": "code",
    "id": "OJQLh9s5bXlb"
   },
   "outputs": [],
   "source": []
  },
  {
   "cell_type": "code",
   "execution_count": null,
   "metadata": {
    "colab": {},
    "colab_type": "code",
    "id": "dImQAEYWFhpk"
   },
   "outputs": [],
   "source": []
  },
  {
   "cell_type": "markdown",
   "metadata": {
    "colab_type": "text",
    "id": "boOyzWchFhsk"
   },
   "source": [
    "# Bonus: The eye of Sauron!"
   ]
  },
  {
   "cell_type": "code",
   "execution_count": null,
   "metadata": {
    "colab": {},
    "colab_type": "code",
    "id": "kjvqKwpaFhvn"
   },
   "outputs": [],
   "source": [
    "from matplotlib.patches import Ellipse\n",
    "\n",
    "# the sclera\n",
    "e1 = Ellipse((0,0),width=35, height=20)\n",
    "e1.set_facecolor((194/255,138/255,35/255))\n",
    "\n",
    "# the cornea\n",
    "e2 = Ellipse((0,0),width=18, height=18)\n",
    "e2.set_facecolor((115/255,16/255,5/255))\n",
    "\n",
    "# the pupil\n",
    "e3 = Ellipse((0,0),width=2, height=15)\n",
    "e3.set_facecolor((30/255,13/255,10/255))\n",
    "\n",
    "\n",
    "fig, ax = plt.subplots(subplot_kw={'aspect':'equal'},figsize=(10,10))\n",
    "ax.add_artist(e1)\n",
    "ax.add_artist(e2)\n",
    "ax.add_artist(e3)\n",
    "\n",
    "ax.set_xlim(-30,30)\n",
    "ax.set_ylim(-10,10)\n",
    "ax.set_axis_off()\n",
    "plt.show()"
   ]
  }
 ],
 "metadata": {
  "colab": {
   "authorship_tag": "ABX9TyMBCwp1FY/tvhX5JtBQtG+0",
   "collapsed_sections": [],
   "name": "MasPy_DataCurveFitting_solution.ipynb",
   "provenance": [
    {
     "file_id": "1UsMfANJ6rs1YYCiBbc2PMT42OxGrqVe0",
     "timestamp": 1597387373680
    },
    {
     "file_id": "1ehijPIDgoLXabcFUQIrEs6YYICP7eDMa",
     "timestamp": 1596606551457
    },
    {
     "file_id": "18zXg3FILjcMYYB28_YSBloU-QfPG3wsN",
     "timestamp": 1596176845442
    },
    {
     "file_id": "1NmcanN7lXBn4Ft6qe-LgtMffVWiaEUVx",
     "timestamp": 1594883068121
    },
    {
     "file_id": "1Zx4etz7dXc_s_xROtXosPT-bWaaOJQOc",
     "timestamp": 1593532106823
    },
    {
     "file_id": "1h3t2-zol8EvzyN3ttq1zzcy7NwZoYiKO",
     "timestamp": 1593374650456
    },
    {
     "file_id": "1U4oG0A3DFC-XBWhvecYeA3YYReqHpShX",
     "timestamp": 1593323391700
    }
   ]
  },
  "kernelspec": {
   "display_name": "Python 3",
   "language": "python",
   "name": "python3"
  },
  "language_info": {
   "codemirror_mode": {
    "name": "ipython",
    "version": 3
   },
   "file_extension": ".py",
   "mimetype": "text/x-python",
   "name": "python",
   "nbconvert_exporter": "python",
   "pygments_lexer": "ipython3",
   "version": "3.8.5"
  }
 },
 "nbformat": 4,
 "nbformat_minor": 1
}
