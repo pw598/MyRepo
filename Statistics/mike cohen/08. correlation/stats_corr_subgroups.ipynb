{
 "cells": [
  {
   "cell_type": "markdown",
   "metadata": {},
   "source": [
    "# COURSE: Master statistics and machine learning: Intuition, Math, code\n",
    "##### COURSE URL: udemy.com/course/statsml_x/?couponCode=202006 \n",
    "## SECTION: Correlation\n",
    "### VIDEO: The subgroups correlation paradox\n",
    "#### TEACHER: Mike X Cohen, sincxpress.com\n",
    "\n",
    "##### note: official called \"Simpson's paradox\""
   ]
  },
  {
   "cell_type": "code",
   "execution_count": 1,
   "metadata": {},
   "outputs": [],
   "source": [
    "# import libraries\n",
    "import matplotlib.pyplot as plt\n",
    "import numpy as np\n",
    "from scipy.stats import pearsonr"
   ]
  },
  {
   "cell_type": "code",
   "execution_count": 2,
   "metadata": {},
   "outputs": [
    {
     "data": {
      "image/png": "[encoded data removed]",
      "text/plain": [
       "<Figure size 432x288 with 1 Axes>"
      ]
     },
     "metadata": {
      "needs_background": "light"
     },
     "output_type": "display_data"
    }
   ],
   "source": [
    "# initializations\n",
    "n = 20 # sample points per group\n",
    "offsets = [2, 3.5, 5] # mean offsets\n",
    "\n",
    "allx = np.array([])\n",
    "ally = np.array([])\n",
    "\n",
    "c = 'rbk' # dot colors\n",
    "\n",
    "# generate and plot data\n",
    "for datai in range(3):\n",
    "    \n",
    "    # generate data\n",
    "    x = np.linspace(offsets[datai]-1,offsets[datai]+1,n)\n",
    "    y = np.mean(x) + np.random.randn(n)/2\n",
    "    \n",
    "    # subgroup correlation\n",
    "    r,p = pearsonr(x,y)\n",
    "    \n",
    "    # plot\n",
    "    plt.plot(x,y,'o',color=c[datai],label=f'r={r:.3f}, p={p:.3f}')\n",
    "    \n",
    "    # gather the data into one array\n",
    "    allx = np.append(allx,x)\n",
    "    ally = np.append(ally,y)\n",
    "    \n",
    "\n",
    "\n",
    "# % now correlate the groups\n",
    "[r,p] = pearsonr(allx,ally)\n",
    "plt.title(f'r={r:.4f}, p={p:.4f}')\n",
    "\n",
    "plt.xlabel('X')\n",
    "plt.ylabel('Y')\n",
    "plt.legend()\n",
    "plt.show()"
   ]
  },
  {
   "cell_type": "code",
   "execution_count": null,
   "metadata": {
    "scrolled": false
   },
   "outputs": [],
   "source": []
  }
 ],
 "metadata": {
  "kernelspec": {
   "display_name": "Python 3 (ipykernel)",
   "language": "python",
   "name": "python3"
  },
  "language_info": {
   "codemirror_mode": {
    "name": "ipython",
    "version": 3
   },
   "file_extension": ".py",
   "mimetype": "text/x-python",
   "name": "python",
   "nbconvert_exporter": "python",
   "pygments_lexer": "ipython3",
   "version": "3.9.12"
  }
 },
 "nbformat": 4,
 "nbformat_minor": 2
}
