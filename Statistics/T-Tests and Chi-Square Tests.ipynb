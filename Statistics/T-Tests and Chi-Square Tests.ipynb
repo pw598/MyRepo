{
 "cells": [
  {
   "cell_type": "markdown",
   "metadata": {},
   "source": [
    "# T-Tests and Chi-Square Tests"
   ]
  },
  {
   "cell_type": "code",
   "execution_count": 1,
   "metadata": {},
   "outputs": [],
   "source": [
    "import matplotlib.pyplot as plt\n",
    "import numpy as np\n",
    "import pandas as pd\n",
    "import scipy.stats as stats\n",
    "import pingouin as pg"
   ]
  },
  {
   "cell_type": "markdown",
   "metadata": {},
   "source": [
    "## One-Sample T-Test"
   ]
  },
  {
   "cell_type": "markdown",
   "metadata": {},
   "source": [
    "### Manual One-Tailed"
   ]
  },
  {
   "cell_type": "code",
   "execution_count": 2,
   "metadata": {},
   "outputs": [],
   "source": [
    "N = 20\n",
    "popMu = .5\n",
    "data  = np.random.randn(N) + popMu"
   ]
  },
  {
   "cell_type": "code",
   "execution_count": 3,
   "metadata": {
    "scrolled": false
   },
   "outputs": [
    {
     "data": {
      "image/png": "[encoded data removed]",
      "text/plain": [
       "<Figure size 432x288 with 1 Axes>"
      ]
     },
     "metadata": {
      "needs_background": "light"
     },
     "output_type": "display_data"
    }
   ],
   "source": [
    "H0val = 0\n",
    "\n",
    "# calculate t-stat\n",
    "t_num = np.mean(data) - H0val\n",
    "t_den = np.std(data, ddof=1) / np.sqrt(N)\n",
    "tval = t_num / t_den\n",
    "\n",
    "df = N-1\n",
    "\n",
    "# p-value\n",
    "pval = (1-stats.t.cdf(abs(tval),df)) * 2\n",
    "\n",
    "# H0 parameter distribution and observed t-value\n",
    "x = np.linspace(-4,4,1001)\n",
    "tdist = stats.t.pdf(x,df) * np.mean(np.diff(x))\n",
    "\n",
    "plt.plot(x,tdist,linewidth=2)\n",
    "plt.plot([tval,tval],[0,max(tdist)],'r--')\n",
    "plt.legend(('H_0 distribution','Observed t-value'))\n",
    "plt.xlabel('t-value')\n",
    "plt.ylabel('pdf(t)')\n",
    "plt.title('t(%g) = %g, p=%g'%(df,tval,pval))\n",
    "plt.show()"
   ]
  },
  {
   "cell_type": "markdown",
   "metadata": {},
   "source": [
    "### Convert to Two-Tailed"
   ]
  },
  {
   "cell_type": "code",
   "execution_count": 4,
   "metadata": {},
   "outputs": [
    {
     "name": "stdout",
     "output_type": "stream",
     "text": [
      "t(N-1) = 0.8908718928890903, p = 0.3841405938820426\n"
     ]
    }
   ],
   "source": [
    "pval = (1-stats.t.cdf(abs(tval),df)) * 2\n",
    "print(f\"t(N-1) = {tval}, p = {pval}\")"
   ]
  },
  {
   "cell_type": "markdown",
   "metadata": {},
   "source": [
    "### Scipy Implementation"
   ]
  },
  {
   "cell_type": "code",
   "execution_count": 5,
   "metadata": {},
   "outputs": [
    {
     "name": "stdout",
     "output_type": "stream",
     "text": [
      "0.8908718928890903 0.3841405938820427\n"
     ]
    }
   ],
   "source": [
    "## this is a two-tailed one-sample test\n",
    "\n",
    "t,p = stats.ttest_1samp(data,H0val)\n",
    "print(tval,p)"
   ]
  },
  {
   "cell_type": "markdown",
   "metadata": {},
   "source": [
    "## Independent Samples T-Tests"
   ]
  },
  {
   "cell_type": "code",
   "execution_count": 6,
   "metadata": {},
   "outputs": [
    {
     "name": "stdout",
     "output_type": "stream",
     "text": [
      "Statistics=-1.820, p=0.070\n",
      "Same distributions (fail to reject H0)\n"
     ]
    }
   ],
   "source": [
    "from numpy.random import randn\n",
    "from scipy.stats import ttest_ind\n",
    "\n",
    "data1 = 5 * randn(100) + 50\n",
    "data2 = 5 * randn(100) + 51\n",
    "\n",
    "tval, p = ttest_ind(data1, data2)\n",
    "print('Statistics=%.3f, p=%.3f' % (tval, p))\n",
    "\n",
    "alpha = 0.05\n",
    "if p > alpha:\n",
    "    print('Same distributions (fail to reject H0)')\n",
    "else:\n",
    "    print('Different distributions (reject H0)')"
   ]
  },
  {
   "cell_type": "code",
   "execution_count": 10,
   "metadata": {},
   "outputs": [
    {
     "name": "stdout",
     "output_type": "stream",
     "text": [
      "t:\t 7.5288682762447765 p:\t 4.788886842632678e-09\n",
      "t2:\t 7.5288682762447765 p2:\t 4.788886919378158e-09\n"
     ]
    }
   ],
   "source": [
    "# generate data\n",
    "data1 = np.random.randn(N) + 2 # mean 2, variance 1\n",
    "data2 = np.random.randn(N) # mean 0, variance 1\n",
    "\n",
    "# roll your own t-test:\n",
    "var_data1 = data1.var(ddof=1)\n",
    "var_data2 = data2.var(ddof=1)\n",
    "s = np.sqrt( (var_data1 + var_data2) / 2 ) # balanced standard deviation\n",
    "t = (data1.mean() - data2.mean()) / (s * np.sqrt(2.0/N))\n",
    "df = 2*N - 2\n",
    "p = 1 - stats.t.cdf(np.abs(t), df=df) # one-sided test p-value\n",
    "print(\"t:\\t\", t, \"p:\\t\", 2*p) # two-sided test p-value\n",
    "\n",
    "# built-in t-test:\n",
    "t2, p2 = stats.ttest_ind(data1, data2)\n",
    "print(\"t2:\\t\", t2, \"p2:\\t\", p2)"
   ]
  },
  {
   "cell_type": "markdown",
   "metadata": {},
   "source": [
    "## Paired T-Test"
   ]
  },
  {
   "cell_type": "code",
   "execution_count": 12,
   "metadata": {},
   "outputs": [
    {
     "name": "stdout",
     "output_type": "stream",
     "text": [
      "Statistics=-0.717, p=0.475\n",
      "Same distributions (fail to reject H0)\n"
     ]
    }
   ],
   "source": [
    "from numpy.random import seed\n",
    "from numpy.random import randn\n",
    "from scipy.stats import ttest_rel\n",
    "\n",
    "data1 = 5 * randn(100) + 50\n",
    "data2 = 5 * randn(100) + 51\n",
    "\n",
    "stat, p = ttest_rel(data1, data2)\n",
    "print('Statistics=%.3f, p=%.3f' % (stat, p))\n",
    "\n",
    "alpha = 0.05\n",
    "if p > alpha:\n",
    "    print('Same distributions (fail to reject H0)')\n",
    "else:\n",
    "    print('Different distributions (reject H0)')"
   ]
  },
  {
   "cell_type": "markdown",
   "metadata": {},
   "source": [
    "## Chi-Squared Contingency"
   ]
  },
  {
   "cell_type": "code",
   "execution_count": 13,
   "metadata": {},
   "outputs": [
    {
     "name": "stdout",
     "output_type": "stream",
     "text": [
      "0.0013069502732125926\n"
     ]
    }
   ],
   "source": [
    "from scipy.stats import chi2, chi2_contingency\n",
    "\n",
    "def get_p_value(T):\n",
    "    # same as scipy.stats.chi2_contingency(T, correction=False)\n",
    "    det = T[0,0]*T[1,1] - T[0,1]*T[1,0]\n",
    "    c2 = float(det) / T[0].sum() * det / T[1].sum() * T.sum() / T[:,0].sum() / T[:,1].sum()\n",
    "    p = 1 - chi2.cdf(x=c2, df=1)\n",
    "    return p\n",
    "\n",
    "# get data\n",
    "df = pd.read_csv('advertisement_clicks.csv')\n",
    "a = df[df['advertisement_id'] == 'A']\n",
    "b = df[df['advertisement_id'] == 'B']\n",
    "a = a['action']\n",
    "b = b['action']\n",
    "\n",
    "A_clk = a.sum()\n",
    "A_noclk = a.size - a.sum()\n",
    "B_clk = b.sum()\n",
    "B_noclk = b.size - b.sum()\n",
    "\n",
    "T = np.array([[A_clk, A_noclk], [B_clk, B_noclk]])\n",
    "\n",
    "print(get_p_value(T))"
   ]
  }
 ],
 "metadata": {
  "kernelspec": {
   "display_name": "Python 3",
   "language": "python",
   "name": "python3"
  },
  "language_info": {
   "codemirror_mode": {
    "name": "ipython",
    "version": 3
   },
   "file_extension": ".py",
   "mimetype": "text/x-python",
   "name": "python",
   "nbconvert_exporter": "python",
   "pygments_lexer": "ipython3",
   "version": "3.8.5"
  }
 },
 "nbformat": 4,
 "nbformat_minor": 4
}
