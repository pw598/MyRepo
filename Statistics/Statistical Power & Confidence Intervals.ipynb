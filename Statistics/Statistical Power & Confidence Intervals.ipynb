{
 "cells": [
  {
   "cell_type": "markdown",
   "metadata": {},
   "source": [
    "# Statistical Power and Confidence Intervals"
   ]
  },
  {
   "cell_type": "code",
   "execution_count": 25,
   "metadata": {},
   "outputs": [],
   "source": [
    "import matplotlib.pyplot as plt\n",
    "import numpy as np\n",
    "import pandas as pd\n",
    "import scipy.stats as stats\n",
    "import pingouin as pg\n",
    "from math import sqrt"
   ]
  },
  {
   "cell_type": "markdown",
   "metadata": {},
   "source": [
    "## Statistical Power & Effect Size"
   ]
  },
  {
   "cell_type": "code",
   "execution_count": 2,
   "metadata": {},
   "outputs": [
    {
     "name": "stdout",
     "output_type": "stream",
     "text": [
      "Cohens d: 0.507\n"
     ]
    }
   ],
   "source": [
    "# cohen's d for independent samples\n",
    "\n",
    "from numpy.random import randn\n",
    "from numpy import var\n",
    "\n",
    "def cohend(d1, d2):\n",
    "    n1, n2 = len(d1), len(d2)\n",
    "    s1, s2 = var(d1, ddof=1), var(d2, ddof=1)\n",
    "    s = sqrt(((n1 - 1) * s1 + (n2 - 1) * s2) / (n1 + n2 - 2))\n",
    "    u1, u2 = np.mean(d1), np.mean(d2)\n",
    "    return (u1 - u2) / s\n",
    "\n",
    "data1 = 10 * randn(10000) + 60\n",
    "data2 = 10 * randn(10000) + 55\n",
    "\n",
    "d = cohend(data1, data2)\n",
    "print('Cohens d: %.3f' % d)"
   ]
  },
  {
   "cell_type": "code",
   "execution_count": 3,
   "metadata": {},
   "outputs": [
    {
     "name": "stdout",
     "output_type": "stream",
     "text": [
      "Sample Size: 25.525\n"
     ]
    },
    {
     "name": "stderr",
     "output_type": "stream",
     "text": [
      "C:\\Users\\17809\\AppData\\Roaming\\Python\\Python38\\site-packages\\statsmodels\\tools\\_testing.py:19: FutureWarning: pandas.util.testing is deprecated. Use the functions in the public API at pandas.testing instead.\n",
      "  import pandas.util.testing as tm\n"
     ]
    }
   ],
   "source": [
    "# estimate sample size via power analysis\n",
    "\n",
    "from statsmodels.stats.power import TTestIndPower\n",
    "\n",
    "effect = 0.8\n",
    "alpha = 0.05\n",
    "power = 0.8\n",
    "\n",
    "analysis = TTestIndPower()\n",
    "result = analysis.solve_power(effect, power=power, nobs1=None, ratio=1.0, alpha=alpha)\n",
    "print('Sample Size: %.3f' % result)"
   ]
  },
  {
   "cell_type": "code",
   "execution_count": 4,
   "metadata": {},
   "outputs": [
    {
     "data": {
      "image/png": "[encoded data removed]",
      "text/plain": [
       "<Figure size 432x288 with 1 Axes>"
      ]
     },
     "metadata": {
      "needs_background": "light"
     },
     "output_type": "display_data"
    }
   ],
   "source": [
    "# power curves for varying sample and effect size\n",
    "from statsmodels.stats.power import TTestIndPower\n",
    "\n",
    "# parameters\n",
    "effect_sizes = np.array([0.2, 0.5, 0.8])\n",
    "sample_sizes = np.array(range(5, 100))\n",
    "\n",
    "# power curves\n",
    "analysis = TTestIndPower()\n",
    "analysis.plot_power(dep_var='nobs', nobs=sample_sizes, effect_size=effect_sizes)\n",
    "plt.show()"
   ]
  },
  {
   "cell_type": "markdown",
   "metadata": {},
   "source": [
    "# Confidence Intervals"
   ]
  },
  {
   "cell_type": "code",
   "execution_count": 5,
   "metadata": {},
   "outputs": [
    {
     "name": "stdout",
     "output_type": "stream",
     "text": [
      "lower=0.816, upper=0.944\n"
     ]
    }
   ],
   "source": [
    "from statsmodels.stats.proportion import proportion_confint\n",
    "\n",
    "lower, upper = proportion_confint(88, 100, 0.05)\n",
    "print('lower=%.3f, upper=%.3f' % (lower, upper))"
   ]
  },
  {
   "cell_type": "markdown",
   "metadata": {},
   "source": [
    "## Bootstrapped Confidence Intervals"
   ]
  },
  {
   "cell_type": "code",
   "execution_count": 6,
   "metadata": {},
   "outputs": [],
   "source": [
    "### Cohen"
   ]
  },
  {
   "cell_type": "code",
   "execution_count": 15,
   "metadata": {},
   "outputs": [],
   "source": [
    "popN = int(1e7)\n",
    "population = (4*np.random.randn(popN))**2\n",
    "popMean = np.mean(population)"
   ]
  },
  {
   "cell_type": "code",
   "execution_count": 20,
   "metadata": {},
   "outputs": [],
   "source": [
    "samplesize = 30\n",
    "confidence = 90\n",
    "\n",
    "randSamples = np.random.randint(0,popN,samplesize)\n",
    "sampledata  = population[randSamples]\n",
    "samplemean  = np.mean(population[randSamples])\n",
    "samplestd   = np.std(population[randSamples]) # used later for analytic solution\n",
    "\n",
    "numBoots  = 1000\n",
    "bootmeans = np.zeros(numBoots)\n",
    "\n",
    "for booti in range(numBoots):\n",
    "    bootmeans[booti] = np.mean( np.random.choice(sampledata,samplesize) )\n",
    "    \n",
    "confint = [0,0] # initialize\n",
    "confint[0] = np.percentile(bootmeans,(100-confidence)/2)\n",
    "confint[1] = np.percentile(bootmeans,100-(100-confidence)/2)"
   ]
  },
  {
   "cell_type": "code",
   "execution_count": 19,
   "metadata": {},
   "outputs": [
    {
     "data": {
      "image/png": "[encoded data removed]",
      "text/plain": [
       "<Figure size 432x288 with 1 Axes>"
      ]
     },
     "metadata": {
      "needs_background": "light"
     },
     "output_type": "display_data"
    }
   ],
   "source": [
    "from matplotlib.patches import Polygon\n",
    "\n",
    "fig,ax = plt.subplots(1,1)\n",
    "\n",
    "y,x = np.histogram(bootmeans,40)\n",
    "y = y/max(y)\n",
    "x = (x[:-1]+x[1:])/2\n",
    "ax.bar(x,y)\n",
    "\n",
    "y = np.array([ [confint[0],0],[confint[1],0],[confint[1],1],[confint[0],1] ])\n",
    "p = Polygon(y,facecolor='g',alpha=.3)\n",
    "ax.add_patch(p)\n",
    "\n",
    "ax.plot([popMean,popMean],[0, 1.5],'k:',linewidth=2)\n",
    "ax.plot([samplemean,samplemean],[0, 1],'r--',linewidth=3)\n",
    "ax.set_xlim([popMean-30, popMean+30])\n",
    "ax.set_yticks([])\n",
    "ax.set_xlabel('Data values')\n",
    "ax.legend(('%g%% CI region'%confidence,'True mean','Sample mean','Empirical dist.'))\n",
    "plt.show()"
   ]
  },
  {
   "cell_type": "code",
   "execution_count": 21,
   "metadata": {},
   "outputs": [
    {
     "name": "stdout",
     "output_type": "stream",
     "text": [
      "Empirical: 7.92603 - 19.984\n",
      "Analytic:  7.685 - 20.304\n"
     ]
    }
   ],
   "source": [
    "## compare against the analytic confidence interval\n",
    "\n",
    "# compute confidence intervals\n",
    "citmp = (1-confidence/100)/2\n",
    "confint2 = samplemean + stats.t.ppf([citmp, 1-citmp],samplesize-1) * samplestd/np.sqrt(samplesize)\n",
    "\n",
    "print('Empirical: %g - %g'%(confint[0],confint[1]))\n",
    "print('Analytic:  %g - %g'%(confint2[0],confint2[1]))"
   ]
  },
  {
   "cell_type": "markdown",
   "metadata": {},
   "source": [
    "### Brownlee"
   ]
  },
  {
   "cell_type": "code",
   "execution_count": 29,
   "metadata": {},
   "outputs": [
    {
     "name": "stdout",
     "output_type": "stream",
     "text": [
      "50th percentile (median) = 0.754\n",
      "2.5th percentile = 0.744\n",
      "97.5th percentile = 0.761\n"
     ]
    }
   ],
   "source": [
    "# from numpy.random import seed\n",
    "from numpy.random import rand\n",
    "from numpy.random import randint\n",
    "# from numpy import mean\n",
    "# from numpy import median\n",
    "# from numpy import percentile\n",
    "\n",
    "dataset = 0.5 + rand(1000) * 0.5\n",
    "\n",
    "scores = list()\n",
    "for _ in range(100):\n",
    "\n",
    "    indices = randint(0, 1000, 1000)\n",
    "    sample = dataset[indices]\n",
    "\n",
    "    statistic = np.mean(sample)\n",
    "    scores.append(statistic)\n",
    "    \n",
    "print('50th percentile (median) = %.3f' % np.median(scores))\n",
    "\n",
    "alpha = 5.0\n",
    "\n",
    "lower_p = alpha / 2.0\n",
    "\n",
    "lower = max(0.0, np.percentile(scores, lower_p))\n",
    "print('%.1fth percentile = %.3f' % (lower_p, lower))\n",
    "\n",
    "upper_p = (100 - alpha) + (alpha / 2.0)\n",
    "\n",
    "upper = min(1.0, np.percentile(scores, upper_p))\n",
    "print('%.1fth percentile = %.3f' % (upper_p, upper))"
   ]
  }
 ],
 "metadata": {
  "kernelspec": {
   "display_name": "Python 3",
   "language": "python",
   "name": "python3"
  },
  "language_info": {
   "codemirror_mode": {
    "name": "ipython",
    "version": 3
   },
   "file_extension": ".py",
   "mimetype": "text/x-python",
   "name": "python",
   "nbconvert_exporter": "python",
   "pygments_lexer": "ipython3",
   "version": "3.8.5"
  }
 },
 "nbformat": 4,
 "nbformat_minor": 4
}
